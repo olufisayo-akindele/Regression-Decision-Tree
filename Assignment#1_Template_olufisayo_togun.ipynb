{
  "cells": [
    {
      "attachments": {},
      "cell_type": "markdown",
      "metadata": {},
      "source": [
        "By Olufisayo Akindele Togun"
      ]
    },
    {
      "cell_type": "markdown",
      "metadata": {
        "id": "iIa-poEHfw5Z"
      },
      "source": [
        "#Assignment 1 (Random Forest)"
      ]
    },
    {
      "cell_type": "markdown",
      "metadata": {
        "id": "lGU057DfgTIL"
      },
      "source": [
        "* In this project you are given a dataset of housing housing price prediction. \n",
        "Dataset description is found in the given datasets.\n",
        "\n",
        "* The goal of the project is to predict the price of a house given its attributes. \n",
        "Therefore, the problem is a regression task. \n",
        "\n",
        "* You need to build a random forest that consists of multiple decision trees (for regression) from the given training data set. Then, apply it on the test set and submit your code to generate predictions.\n",
        "You need to build the random forest and decision trees from scratch. (I.e., it is not allowed to use existing machine learning libraries or packages such as sklearn.)\n",
        "\n",
        "* You may use any programming language/environment of your choice, but you are required to submit the complete source code to produce the output\n",
        "If you use anything other than jupyter notebook, submit an executable and run that from the main function of the jupyter notebook so that the prediction generation is automated. We can provide assistance with this.\n",
        "The output (a single file with the predictions for each test instance) must be generated automatically using the approach implemented by you. Submitting predictions/code from any other source (Internet, another student, etc.) is considered cheating and will result in immediate disqualification (i.e., dismissal from the course)."
      ]
    },
    {
      "cell_type": "markdown",
      "metadata": {
        "id": "_kut1m20f4zR"
      },
      "source": [
        "##Part 1: Preprocessing and dataset analysis (20 points)"
      ]
    },
    {
      "cell_type": "markdown",
      "metadata": {
        "id": "5yANfSgagRJq"
      },
      "source": [
        "* The given dataset is quite complex, it has many attributes, and not all of them are useful! \n",
        "Training on such dataset results in a bad accuracy. And this is exactly the point! \n",
        "\n",
        "* \"Understanding the question is half the answer\". In data mining, understanding the dataset is half the answer! \n",
        "\n",
        "* In part 1 you need to analyze the dataset and make it clean. \n",
        " "
      ]
    },
    {
      "cell_type": "markdown",
      "metadata": {
        "id": "O4xjsBzYlfjq"
      },
      "source": [
        "###Load the dataset and explore (5 points)\n",
        "\n",
        "* Load the dataset, view the dataset and the shape of it, "
      ]
    },
    {
      "cell_type": "code",
      "execution_count": 1,
      "metadata": {
        "id": "AUvifadOf4G-"
      },
      "outputs": [],
      "source": [
        "import numpy as np\n",
        "import pandas as pd\n",
        "import seaborn as sns\n",
        "import matplotlib.pyplot as plt \n",
        "import warnings\n",
        "import datetime as dt\n",
        "import matplotlib.dates as mdates\n",
        "\n",
        "from functools import reduce\n",
        "import datetime as dt\n",
        "from statsmodels.tsa.ar_model import AutoReg\n",
        "from pandas.plotting import autocorrelation_plot\n",
        "from scipy.stats import pearsonr\n",
        "from sklearn.preprocessing import OneHotEncoder\n",
        "from sklearn.preprocessing import LabelEncoder\n",
        "\n",
        "\n"
      ]
    },
    {
      "cell_type": "code",
      "execution_count": 2,
      "metadata": {},
      "outputs": [],
      "source": [
        "price_test=pd.read_csv('sample_submission.csv')\n",
        "attribute_test=pd.read_csv('housing_price_test.csv')\n",
        "house_description=pd.read_csv('housing_data_description.csv', on_bad_lines='skip')\n",
        "price_attribute_train=pd.read_csv('housing_price_train.csv')"
      ]
    },
    {
      "cell_type": "code",
      "execution_count": null,
      "metadata": {},
      "outputs": [],
      "source": []
    },
    {
      "cell_type": "code",
      "execution_count": 3,
      "metadata": {},
      "outputs": [],
      "source": [
        "#merge the two data set together\n",
        "price_attribute_test = pd.merge(price_test,attribute_test, on= 'Id')"
      ]
    },
    {
      "cell_type": "markdown",
      "metadata": {
        "id": "oWmPCu5hmAIj"
      },
      "source": [
        "### Clean the dataset (10 points)\n",
        "\n",
        "* We cannot train on a 'dirty' dataset! There are duplicated, Null, and missing values that you need to take care of!\n",
        "\n",
        "* Drop all columns which have null values >= 70 % and drop all rows which have null values >= 70 %.\n",
        "\n",
        "* You need to take care of categorial data!"
      ]
    },
    {
      "cell_type": "code",
      "execution_count": 4,
      "metadata": {
        "id": "exQbzeH7mM-I"
      },
      "outputs": [],
      "source": [
        "def PreprocessingData(db):\n",
        "    \"\"\"\n",
        "        TODO\n",
        "        Show NULL values for each columns in dataset and thier percentage\n",
        "        Drop all columns which have null values >= 70 % \n",
        "        Drop all rows which have null values >= 70 %\n",
        "        Fill all missing values with the (mean, mode)\n",
        "\n",
        "    \"\"\"\n",
        "    \n",
        "    # checks for null values and print their percentage\n",
        "    null_percent_test = db.isnull().mean()\n",
        "    #print(null_percent_test)\n",
        "    \n",
        "\n",
        "    #drops all columns with null values more than 70%\n",
        "    db = db.dropna(thresh=int(db.shape[0] * 0.3), axis=1)\n",
        "    #db = db.dropna(thresh=int(db.shape[0] * 0.3), axis=0)\n",
        "    \n",
        "    \n",
        "    #calculates the mean of a integers and floats in a data set\n",
        "    #mean = db.select_dtypes(include=['float64','int64']).mean()\n",
        "\n",
        "    # calculate the mode for non-numeric values\n",
        "    #mode_db = db.select_dtypes(exclude=['float64','int64'])\n",
        "    #if mode_db.empty:\n",
        "    #    mode = None\n",
        "    # else:\n",
        "    #    mode = mode_db.mode().iloc[0]\n",
        "    \n",
        "\n",
        "    # combine the mean and mode dictionaries\n",
        "    #mean.update(mode)\n",
        "    \n",
        "    # fill missing values with the mean or mode of each column depending on column type\n",
        "    #db = db.fillna(mean)\n",
        "    miss_val= db.isnull().sum().sort_values(ascending=False)\n",
        "\n",
        "    miss_val = pd.DataFrame(data=db.isnull().sum().sort_values(ascending=False), columns=['MissingValueCount'])\n",
        "\n",
        "    columns_with_missing_values = miss_val[miss_val['MissingValueCount'] > 0].index\n",
        "\n",
        "    price_train_filtered = db[columns_with_missing_values]\n",
        "\n",
        "    columns_with_missing_values = miss_val[miss_val['MissingValueCount'] > 0].index\n",
        "    \n",
        "    for col in columns_with_missing_values:\n",
        "        mode = db[col].mode().values[0]\n",
        "        db[col].fillna(mode, inplace=True)\n",
        "\n",
        "\n",
        "\n",
        "    #How to find the numeric columns in pandas\n",
        "    numerics = ['int16','int32','int64','float32','float64']\n",
        "    numerics_cols= list(db.select_dtypes(include = numerics))\n",
        "\n",
        "    #convert all numeric columns to intergers\n",
        "    for col in numerics_cols: \n",
        "        db[col] = pd.to_numeric(db[col], errors='coerce')\n",
        "\n",
        "    \n",
        "    return(db)\n"
      ]
    },
    {
      "cell_type": "code",
      "execution_count": 5,
      "metadata": {},
      "outputs": [
        {
          "name": "stderr",
          "output_type": "stream",
          "text": [
            "C:\\Users\\fisay\\AppData\\Local\\Temp\\ipykernel_6752\\177736019.py:45: SettingWithCopyWarning: \n",
            "A value is trying to be set on a copy of a slice from a DataFrame\n",
            "\n",
            "See the caveats in the documentation: https://pandas.pydata.org/pandas-docs/stable/user_guide/indexing.html#returning-a-view-versus-a-copy\n",
            "  db[col].fillna(mode, inplace=True)\n",
            "C:\\Users\\fisay\\AppData\\Local\\Temp\\ipykernel_6752\\177736019.py:45: SettingWithCopyWarning: \n",
            "A value is trying to be set on a copy of a slice from a DataFrame\n",
            "\n",
            "See the caveats in the documentation: https://pandas.pydata.org/pandas-docs/stable/user_guide/indexing.html#returning-a-view-versus-a-copy\n",
            "  db[col].fillna(mode, inplace=True)\n",
            "C:\\Users\\fisay\\AppData\\Local\\Temp\\ipykernel_6752\\177736019.py:45: SettingWithCopyWarning: \n",
            "A value is trying to be set on a copy of a slice from a DataFrame\n",
            "\n",
            "See the caveats in the documentation: https://pandas.pydata.org/pandas-docs/stable/user_guide/indexing.html#returning-a-view-versus-a-copy\n",
            "  db[col].fillna(mode, inplace=True)\n",
            "C:\\Users\\fisay\\AppData\\Local\\Temp\\ipykernel_6752\\177736019.py:45: SettingWithCopyWarning: \n",
            "A value is trying to be set on a copy of a slice from a DataFrame\n",
            "\n",
            "See the caveats in the documentation: https://pandas.pydata.org/pandas-docs/stable/user_guide/indexing.html#returning-a-view-versus-a-copy\n",
            "  db[col].fillna(mode, inplace=True)\n",
            "C:\\Users\\fisay\\AppData\\Local\\Temp\\ipykernel_6752\\177736019.py:45: SettingWithCopyWarning: \n",
            "A value is trying to be set on a copy of a slice from a DataFrame\n",
            "\n",
            "See the caveats in the documentation: https://pandas.pydata.org/pandas-docs/stable/user_guide/indexing.html#returning-a-view-versus-a-copy\n",
            "  db[col].fillna(mode, inplace=True)\n",
            "C:\\Users\\fisay\\AppData\\Local\\Temp\\ipykernel_6752\\177736019.py:45: SettingWithCopyWarning: \n",
            "A value is trying to be set on a copy of a slice from a DataFrame\n",
            "\n",
            "See the caveats in the documentation: https://pandas.pydata.org/pandas-docs/stable/user_guide/indexing.html#returning-a-view-versus-a-copy\n",
            "  db[col].fillna(mode, inplace=True)\n",
            "C:\\Users\\fisay\\AppData\\Local\\Temp\\ipykernel_6752\\177736019.py:45: SettingWithCopyWarning: \n",
            "A value is trying to be set on a copy of a slice from a DataFrame\n",
            "\n",
            "See the caveats in the documentation: https://pandas.pydata.org/pandas-docs/stable/user_guide/indexing.html#returning-a-view-versus-a-copy\n",
            "  db[col].fillna(mode, inplace=True)\n",
            "C:\\Users\\fisay\\AppData\\Local\\Temp\\ipykernel_6752\\177736019.py:45: SettingWithCopyWarning: \n",
            "A value is trying to be set on a copy of a slice from a DataFrame\n",
            "\n",
            "See the caveats in the documentation: https://pandas.pydata.org/pandas-docs/stable/user_guide/indexing.html#returning-a-view-versus-a-copy\n",
            "  db[col].fillna(mode, inplace=True)\n",
            "C:\\Users\\fisay\\AppData\\Local\\Temp\\ipykernel_6752\\177736019.py:45: SettingWithCopyWarning: \n",
            "A value is trying to be set on a copy of a slice from a DataFrame\n",
            "\n",
            "See the caveats in the documentation: https://pandas.pydata.org/pandas-docs/stable/user_guide/indexing.html#returning-a-view-versus-a-copy\n",
            "  db[col].fillna(mode, inplace=True)\n",
            "C:\\Users\\fisay\\AppData\\Local\\Temp\\ipykernel_6752\\177736019.py:45: SettingWithCopyWarning: \n",
            "A value is trying to be set on a copy of a slice from a DataFrame\n",
            "\n",
            "See the caveats in the documentation: https://pandas.pydata.org/pandas-docs/stable/user_guide/indexing.html#returning-a-view-versus-a-copy\n",
            "  db[col].fillna(mode, inplace=True)\n",
            "C:\\Users\\fisay\\AppData\\Local\\Temp\\ipykernel_6752\\177736019.py:45: SettingWithCopyWarning: \n",
            "A value is trying to be set on a copy of a slice from a DataFrame\n",
            "\n",
            "See the caveats in the documentation: https://pandas.pydata.org/pandas-docs/stable/user_guide/indexing.html#returning-a-view-versus-a-copy\n",
            "  db[col].fillna(mode, inplace=True)\n",
            "C:\\Users\\fisay\\AppData\\Local\\Temp\\ipykernel_6752\\177736019.py:45: SettingWithCopyWarning: \n",
            "A value is trying to be set on a copy of a slice from a DataFrame\n",
            "\n",
            "See the caveats in the documentation: https://pandas.pydata.org/pandas-docs/stable/user_guide/indexing.html#returning-a-view-versus-a-copy\n",
            "  db[col].fillna(mode, inplace=True)\n",
            "C:\\Users\\fisay\\AppData\\Local\\Temp\\ipykernel_6752\\177736019.py:45: SettingWithCopyWarning: \n",
            "A value is trying to be set on a copy of a slice from a DataFrame\n",
            "\n",
            "See the caveats in the documentation: https://pandas.pydata.org/pandas-docs/stable/user_guide/indexing.html#returning-a-view-versus-a-copy\n",
            "  db[col].fillna(mode, inplace=True)\n",
            "C:\\Users\\fisay\\AppData\\Local\\Temp\\ipykernel_6752\\177736019.py:45: SettingWithCopyWarning: \n",
            "A value is trying to be set on a copy of a slice from a DataFrame\n",
            "\n",
            "See the caveats in the documentation: https://pandas.pydata.org/pandas-docs/stable/user_guide/indexing.html#returning-a-view-versus-a-copy\n",
            "  db[col].fillna(mode, inplace=True)\n",
            "C:\\Users\\fisay\\AppData\\Local\\Temp\\ipykernel_6752\\177736019.py:45: SettingWithCopyWarning: \n",
            "A value is trying to be set on a copy of a slice from a DataFrame\n",
            "\n",
            "See the caveats in the documentation: https://pandas.pydata.org/pandas-docs/stable/user_guide/indexing.html#returning-a-view-versus-a-copy\n",
            "  db[col].fillna(mode, inplace=True)\n",
            "C:\\Users\\fisay\\AppData\\Local\\Temp\\ipykernel_6752\\177736019.py:45: SettingWithCopyWarning: \n",
            "A value is trying to be set on a copy of a slice from a DataFrame\n",
            "\n",
            "See the caveats in the documentation: https://pandas.pydata.org/pandas-docs/stable/user_guide/indexing.html#returning-a-view-versus-a-copy\n",
            "  db[col].fillna(mode, inplace=True)\n",
            "C:\\Users\\fisay\\AppData\\Local\\Temp\\ipykernel_6752\\177736019.py:45: SettingWithCopyWarning: \n",
            "A value is trying to be set on a copy of a slice from a DataFrame\n",
            "\n",
            "See the caveats in the documentation: https://pandas.pydata.org/pandas-docs/stable/user_guide/indexing.html#returning-a-view-versus-a-copy\n",
            "  db[col].fillna(mode, inplace=True)\n",
            "C:\\Users\\fisay\\AppData\\Local\\Temp\\ipykernel_6752\\177736019.py:45: SettingWithCopyWarning: \n",
            "A value is trying to be set on a copy of a slice from a DataFrame\n",
            "\n",
            "See the caveats in the documentation: https://pandas.pydata.org/pandas-docs/stable/user_guide/indexing.html#returning-a-view-versus-a-copy\n",
            "  db[col].fillna(mode, inplace=True)\n",
            "C:\\Users\\fisay\\AppData\\Local\\Temp\\ipykernel_6752\\177736019.py:45: SettingWithCopyWarning: \n",
            "A value is trying to be set on a copy of a slice from a DataFrame\n",
            "\n",
            "See the caveats in the documentation: https://pandas.pydata.org/pandas-docs/stable/user_guide/indexing.html#returning-a-view-versus-a-copy\n",
            "  db[col].fillna(mode, inplace=True)\n",
            "C:\\Users\\fisay\\AppData\\Local\\Temp\\ipykernel_6752\\177736019.py:45: SettingWithCopyWarning: \n",
            "A value is trying to be set on a copy of a slice from a DataFrame\n",
            "\n",
            "See the caveats in the documentation: https://pandas.pydata.org/pandas-docs/stable/user_guide/indexing.html#returning-a-view-versus-a-copy\n",
            "  db[col].fillna(mode, inplace=True)\n",
            "C:\\Users\\fisay\\AppData\\Local\\Temp\\ipykernel_6752\\177736019.py:45: SettingWithCopyWarning: \n",
            "A value is trying to be set on a copy of a slice from a DataFrame\n",
            "\n",
            "See the caveats in the documentation: https://pandas.pydata.org/pandas-docs/stable/user_guide/indexing.html#returning-a-view-versus-a-copy\n",
            "  db[col].fillna(mode, inplace=True)\n",
            "C:\\Users\\fisay\\AppData\\Local\\Temp\\ipykernel_6752\\177736019.py:45: SettingWithCopyWarning: \n",
            "A value is trying to be set on a copy of a slice from a DataFrame\n",
            "\n",
            "See the caveats in the documentation: https://pandas.pydata.org/pandas-docs/stable/user_guide/indexing.html#returning-a-view-versus-a-copy\n",
            "  db[col].fillna(mode, inplace=True)\n",
            "C:\\Users\\fisay\\AppData\\Local\\Temp\\ipykernel_6752\\177736019.py:45: SettingWithCopyWarning: \n",
            "A value is trying to be set on a copy of a slice from a DataFrame\n",
            "\n",
            "See the caveats in the documentation: https://pandas.pydata.org/pandas-docs/stable/user_guide/indexing.html#returning-a-view-versus-a-copy\n",
            "  db[col].fillna(mode, inplace=True)\n",
            "C:\\Users\\fisay\\AppData\\Local\\Temp\\ipykernel_6752\\177736019.py:45: SettingWithCopyWarning: \n",
            "A value is trying to be set on a copy of a slice from a DataFrame\n",
            "\n",
            "See the caveats in the documentation: https://pandas.pydata.org/pandas-docs/stable/user_guide/indexing.html#returning-a-view-versus-a-copy\n",
            "  db[col].fillna(mode, inplace=True)\n",
            "C:\\Users\\fisay\\AppData\\Local\\Temp\\ipykernel_6752\\177736019.py:45: SettingWithCopyWarning: \n",
            "A value is trying to be set on a copy of a slice from a DataFrame\n",
            "\n",
            "See the caveats in the documentation: https://pandas.pydata.org/pandas-docs/stable/user_guide/indexing.html#returning-a-view-versus-a-copy\n",
            "  db[col].fillna(mode, inplace=True)\n",
            "C:\\Users\\fisay\\AppData\\Local\\Temp\\ipykernel_6752\\177736019.py:45: SettingWithCopyWarning: \n",
            "A value is trying to be set on a copy of a slice from a DataFrame\n",
            "\n",
            "See the caveats in the documentation: https://pandas.pydata.org/pandas-docs/stable/user_guide/indexing.html#returning-a-view-versus-a-copy\n",
            "  db[col].fillna(mode, inplace=True)\n",
            "C:\\Users\\fisay\\AppData\\Local\\Temp\\ipykernel_6752\\177736019.py:45: SettingWithCopyWarning: \n",
            "A value is trying to be set on a copy of a slice from a DataFrame\n",
            "\n",
            "See the caveats in the documentation: https://pandas.pydata.org/pandas-docs/stable/user_guide/indexing.html#returning-a-view-versus-a-copy\n",
            "  db[col].fillna(mode, inplace=True)\n",
            "C:\\Users\\fisay\\AppData\\Local\\Temp\\ipykernel_6752\\177736019.py:45: SettingWithCopyWarning: \n",
            "A value is trying to be set on a copy of a slice from a DataFrame\n",
            "\n",
            "See the caveats in the documentation: https://pandas.pydata.org/pandas-docs/stable/user_guide/indexing.html#returning-a-view-versus-a-copy\n",
            "  db[col].fillna(mode, inplace=True)\n",
            "C:\\Users\\fisay\\AppData\\Local\\Temp\\ipykernel_6752\\177736019.py:45: SettingWithCopyWarning: \n",
            "A value is trying to be set on a copy of a slice from a DataFrame\n",
            "\n",
            "See the caveats in the documentation: https://pandas.pydata.org/pandas-docs/stable/user_guide/indexing.html#returning-a-view-versus-a-copy\n",
            "  db[col].fillna(mode, inplace=True)\n",
            "C:\\Users\\fisay\\AppData\\Local\\Temp\\ipykernel_6752\\177736019.py:55: SettingWithCopyWarning: \n",
            "A value is trying to be set on a copy of a slice from a DataFrame.\n",
            "Try using .loc[row_indexer,col_indexer] = value instead\n",
            "\n",
            "See the caveats in the documentation: https://pandas.pydata.org/pandas-docs/stable/user_guide/indexing.html#returning-a-view-versus-a-copy\n",
            "  db[col] = pd.to_numeric(db[col], errors='coerce')\n",
            "C:\\Users\\fisay\\AppData\\Local\\Temp\\ipykernel_6752\\177736019.py:45: SettingWithCopyWarning: \n",
            "A value is trying to be set on a copy of a slice from a DataFrame\n",
            "\n",
            "See the caveats in the documentation: https://pandas.pydata.org/pandas-docs/stable/user_guide/indexing.html#returning-a-view-versus-a-copy\n",
            "  db[col].fillna(mode, inplace=True)\n",
            "C:\\Users\\fisay\\AppData\\Local\\Temp\\ipykernel_6752\\177736019.py:45: SettingWithCopyWarning: \n",
            "A value is trying to be set on a copy of a slice from a DataFrame\n",
            "\n",
            "See the caveats in the documentation: https://pandas.pydata.org/pandas-docs/stable/user_guide/indexing.html#returning-a-view-versus-a-copy\n",
            "  db[col].fillna(mode, inplace=True)\n",
            "C:\\Users\\fisay\\AppData\\Local\\Temp\\ipykernel_6752\\177736019.py:45: SettingWithCopyWarning: \n",
            "A value is trying to be set on a copy of a slice from a DataFrame\n",
            "\n",
            "See the caveats in the documentation: https://pandas.pydata.org/pandas-docs/stable/user_guide/indexing.html#returning-a-view-versus-a-copy\n",
            "  db[col].fillna(mode, inplace=True)\n",
            "C:\\Users\\fisay\\AppData\\Local\\Temp\\ipykernel_6752\\177736019.py:45: SettingWithCopyWarning: \n",
            "A value is trying to be set on a copy of a slice from a DataFrame\n",
            "\n",
            "See the caveats in the documentation: https://pandas.pydata.org/pandas-docs/stable/user_guide/indexing.html#returning-a-view-versus-a-copy\n",
            "  db[col].fillna(mode, inplace=True)\n",
            "C:\\Users\\fisay\\AppData\\Local\\Temp\\ipykernel_6752\\177736019.py:45: SettingWithCopyWarning: \n",
            "A value is trying to be set on a copy of a slice from a DataFrame\n",
            "\n",
            "See the caveats in the documentation: https://pandas.pydata.org/pandas-docs/stable/user_guide/indexing.html#returning-a-view-versus-a-copy\n",
            "  db[col].fillna(mode, inplace=True)\n",
            "C:\\Users\\fisay\\AppData\\Local\\Temp\\ipykernel_6752\\177736019.py:45: SettingWithCopyWarning: \n",
            "A value is trying to be set on a copy of a slice from a DataFrame\n",
            "\n",
            "See the caveats in the documentation: https://pandas.pydata.org/pandas-docs/stable/user_guide/indexing.html#returning-a-view-versus-a-copy\n",
            "  db[col].fillna(mode, inplace=True)\n",
            "C:\\Users\\fisay\\AppData\\Local\\Temp\\ipykernel_6752\\177736019.py:45: SettingWithCopyWarning: \n",
            "A value is trying to be set on a copy of a slice from a DataFrame\n",
            "\n",
            "See the caveats in the documentation: https://pandas.pydata.org/pandas-docs/stable/user_guide/indexing.html#returning-a-view-versus-a-copy\n",
            "  db[col].fillna(mode, inplace=True)\n",
            "C:\\Users\\fisay\\AppData\\Local\\Temp\\ipykernel_6752\\177736019.py:45: SettingWithCopyWarning: \n",
            "A value is trying to be set on a copy of a slice from a DataFrame\n",
            "\n",
            "See the caveats in the documentation: https://pandas.pydata.org/pandas-docs/stable/user_guide/indexing.html#returning-a-view-versus-a-copy\n",
            "  db[col].fillna(mode, inplace=True)\n",
            "C:\\Users\\fisay\\AppData\\Local\\Temp\\ipykernel_6752\\177736019.py:45: SettingWithCopyWarning: \n",
            "A value is trying to be set on a copy of a slice from a DataFrame\n",
            "\n",
            "See the caveats in the documentation: https://pandas.pydata.org/pandas-docs/stable/user_guide/indexing.html#returning-a-view-versus-a-copy\n",
            "  db[col].fillna(mode, inplace=True)\n",
            "C:\\Users\\fisay\\AppData\\Local\\Temp\\ipykernel_6752\\177736019.py:45: SettingWithCopyWarning: \n",
            "A value is trying to be set on a copy of a slice from a DataFrame\n",
            "\n",
            "See the caveats in the documentation: https://pandas.pydata.org/pandas-docs/stable/user_guide/indexing.html#returning-a-view-versus-a-copy\n",
            "  db[col].fillna(mode, inplace=True)\n",
            "C:\\Users\\fisay\\AppData\\Local\\Temp\\ipykernel_6752\\177736019.py:45: SettingWithCopyWarning: \n",
            "A value is trying to be set on a copy of a slice from a DataFrame\n",
            "\n",
            "See the caveats in the documentation: https://pandas.pydata.org/pandas-docs/stable/user_guide/indexing.html#returning-a-view-versus-a-copy\n",
            "  db[col].fillna(mode, inplace=True)\n",
            "C:\\Users\\fisay\\AppData\\Local\\Temp\\ipykernel_6752\\177736019.py:45: SettingWithCopyWarning: \n",
            "A value is trying to be set on a copy of a slice from a DataFrame\n",
            "\n",
            "See the caveats in the documentation: https://pandas.pydata.org/pandas-docs/stable/user_guide/indexing.html#returning-a-view-versus-a-copy\n",
            "  db[col].fillna(mode, inplace=True)\n",
            "C:\\Users\\fisay\\AppData\\Local\\Temp\\ipykernel_6752\\177736019.py:45: SettingWithCopyWarning: \n",
            "A value is trying to be set on a copy of a slice from a DataFrame\n",
            "\n",
            "See the caveats in the documentation: https://pandas.pydata.org/pandas-docs/stable/user_guide/indexing.html#returning-a-view-versus-a-copy\n",
            "  db[col].fillna(mode, inplace=True)\n",
            "C:\\Users\\fisay\\AppData\\Local\\Temp\\ipykernel_6752\\177736019.py:45: SettingWithCopyWarning: \n",
            "A value is trying to be set on a copy of a slice from a DataFrame\n",
            "\n",
            "See the caveats in the documentation: https://pandas.pydata.org/pandas-docs/stable/user_guide/indexing.html#returning-a-view-versus-a-copy\n",
            "  db[col].fillna(mode, inplace=True)\n",
            "C:\\Users\\fisay\\AppData\\Local\\Temp\\ipykernel_6752\\177736019.py:45: SettingWithCopyWarning: \n",
            "A value is trying to be set on a copy of a slice from a DataFrame\n",
            "\n",
            "See the caveats in the documentation: https://pandas.pydata.org/pandas-docs/stable/user_guide/indexing.html#returning-a-view-versus-a-copy\n",
            "  db[col].fillna(mode, inplace=True)\n",
            "C:\\Users\\fisay\\AppData\\Local\\Temp\\ipykernel_6752\\177736019.py:55: SettingWithCopyWarning: \n",
            "A value is trying to be set on a copy of a slice from a DataFrame.\n",
            "Try using .loc[row_indexer,col_indexer] = value instead\n",
            "\n",
            "See the caveats in the documentation: https://pandas.pydata.org/pandas-docs/stable/user_guide/indexing.html#returning-a-view-versus-a-copy\n",
            "  db[col] = pd.to_numeric(db[col], errors='coerce')\n"
          ]
        }
      ],
      "source": [
        "price_test=PreprocessingData(price_attribute_test)\n",
        "price_train=PreprocessingData(price_attribute_train)\n"
      ]
    },
    {
      "cell_type": "code",
      "execution_count": 6,
      "metadata": {},
      "outputs": [
        {
          "data": {
            "text/html": [
              "<div>\n",
              "<style scoped>\n",
              "    .dataframe tbody tr th:only-of-type {\n",
              "        vertical-align: middle;\n",
              "    }\n",
              "\n",
              "    .dataframe tbody tr th {\n",
              "        vertical-align: top;\n",
              "    }\n",
              "\n",
              "    .dataframe thead th {\n",
              "        text-align: right;\n",
              "    }\n",
              "</style>\n",
              "<table border=\"1\" class=\"dataframe\">\n",
              "  <thead>\n",
              "    <tr style=\"text-align: right;\">\n",
              "      <th></th>\n",
              "      <th>MissingValueCount</th>\n",
              "    </tr>\n",
              "  </thead>\n",
              "  <tbody>\n",
              "  </tbody>\n",
              "</table>\n",
              "</div>"
            ],
            "text/plain": [
              "Empty DataFrame\n",
              "Columns: [MissingValueCount]\n",
              "Index: []"
            ]
          },
          "execution_count": 6,
          "metadata": {},
          "output_type": "execute_result"
        }
      ],
      "source": [
        "#verification to show that all data types have no null values \n",
        "miss_val= price_train.isnull().sum().sort_values(ascending=False)\n",
        "miss_val = pd.DataFrame(data=price_train.isnull().sum().sort_values(ascending=False), columns=['MissingValueCount'])\n",
        "miss_val[miss_val['MissingValueCount']>0]"
      ]
    },
    {
      "cell_type": "code",
      "execution_count": 7,
      "metadata": {},
      "outputs": [
        {
          "name": "stdout",
          "output_type": "stream",
          "text": [
            "Id                 int64\n",
            "MSSubClass         int64\n",
            "MSZoning          object\n",
            "LotFrontage      float64\n",
            "LotArea            int64\n",
            "                  ...   \n",
            "MoSold             int64\n",
            "YrSold             int64\n",
            "SaleType          object\n",
            "SaleCondition     object\n",
            "SalePrice          int64\n",
            "Length: 77, dtype: object\n"
          ]
        }
      ],
      "source": [
        "print(price_train.dtypes)"
      ]
    },
    {
      "cell_type": "markdown",
      "metadata": {
        "id": "LQ8kz_a-mdNx"
      },
      "source": [
        "### Correlations! (5 points)\n",
        "\n",
        "* Now we have a clean dataset, but not all attributes are useful! \n",
        "\n",
        "* Display the corrlation between all features and the sales price. This will show you which feature affects sales price more. You may use *corr()* function. \n",
        "\n",
        "* Choose the most correlated features, and remove others. "
      ]
    },
    {
      "cell_type": "code",
      "execution_count": 8,
      "metadata": {},
      "outputs": [],
      "source": [
        "def cor_select(db):\n",
        "        # input a primary key\n",
        "    primary_key = 'SalePrice'\n",
        "\n",
        "    # input column to be exempt\n",
        "    exempt_col = 'Id'\n",
        "\n",
        "   # calculate the correlation matrix\n",
        "    corr_matrix = db.corr().abs()\n",
        "\n",
        "    # sort the correlation matrix by the correlation with the primary key column\n",
        "    sorted_corr = corr_matrix.sort_values(by=primary_key, axis=0, ascending=False)\n",
        "    \n",
        "\n",
        "    # select the top 10 columns with the highest correlation\n",
        "    top_correlated = sorted_corr.drop(primary_key).head(25)\n",
        "    \n",
        "\n",
        "    # store the columns names \n",
        "    top_columns = top_correlated.index\n",
        "    print(top_columns)\n",
        "\n",
        "    # add the exempt and primarycolumn to the list\n",
        "    top_columns = top_columns.append(pd.Index([exempt_col]))\n",
        "    top_columns = top_columns.append(pd.Index([primary_key]))\n",
        "    \n",
        "    # drop the other columns\n",
        "    db = db[top_columns]\n",
        "\n",
        "    return(db)"
      ]
    },
    {
      "cell_type": "code",
      "execution_count": 9,
      "metadata": {},
      "outputs": [
        {
          "data": {
            "text/plain": [
              "SalePrice        1.000000\n",
              "OverallQual      0.790982\n",
              "GrLivArea        0.708624\n",
              "GarageCars       0.640409\n",
              "GarageArea       0.623431\n",
              "TotalBsmtSF      0.613581\n",
              "1stFlrSF         0.605852\n",
              "FullBath         0.560664\n",
              "TotRmsAbvGrd     0.533723\n",
              "YearBuilt        0.522897\n",
              "YearRemodAdd     0.507101\n",
              "GarageYrBlt      0.486362\n",
              "MasVnrArea       0.477493\n",
              "Fireplaces       0.466929\n",
              "BsmtFinSF1       0.386420\n",
              "LotFrontage      0.351799\n",
              "WoodDeckSF       0.324413\n",
              "2ndFlrSF         0.319334\n",
              "OpenPorchSF      0.315856\n",
              "HalfBath         0.284108\n",
              "LotArea          0.263843\n",
              "BsmtFullBath     0.227122\n",
              "BsmtUnfSF        0.214479\n",
              "BedroomAbvGr     0.168213\n",
              "KitchenAbvGr     0.135907\n",
              "EnclosedPorch    0.128578\n",
              "ScreenPorch      0.111447\n",
              "PoolArea         0.092404\n",
              "MSSubClass       0.084284\n",
              "OverallCond      0.077856\n",
              "MoSold           0.046432\n",
              "3SsnPorch        0.044584\n",
              "YrSold           0.028923\n",
              "LowQualFinSF     0.025606\n",
              "Id               0.021917\n",
              "MiscVal          0.021190\n",
              "BsmtHalfBath     0.016844\n",
              "BsmtFinSF2       0.011378\n",
              "Name: SalePrice, dtype: float64"
            ]
          },
          "execution_count": 9,
          "metadata": {},
          "output_type": "execute_result"
        }
      ],
      "source": [
        "price_attribute_train[price_attribute_train.columns].corr().abs()['SalePrice'][:].sort_values(ascending=False)"
      ]
    },
    {
      "cell_type": "code",
      "execution_count": 10,
      "metadata": {},
      "outputs": [
        {
          "name": "stdout",
          "output_type": "stream",
          "text": [
            "Index(['OverallQual', 'GrLivArea', 'GarageCars', 'GarageArea', 'TotalBsmtSF',\n",
            "       '1stFlrSF', 'FullBath', 'TotRmsAbvGrd', 'YearBuilt', 'YearRemodAdd',\n",
            "       'MasVnrArea', 'Fireplaces', 'GarageYrBlt', 'BsmtFinSF1', 'LotFrontage',\n",
            "       'WoodDeckSF', '2ndFlrSF', 'OpenPorchSF', 'HalfBath', 'LotArea',\n",
            "       'BsmtFullBath', 'BsmtUnfSF', 'BedroomAbvGr', 'KitchenAbvGr',\n",
            "       'EnclosedPorch'],\n",
            "      dtype='object')\n",
            "Index(['OverallQual', 'GrLivArea', 'GarageCars', 'GarageArea', 'TotalBsmtSF',\n",
            "       '1stFlrSF', 'YearBuilt', 'FullBath', 'YearRemodAdd', 'MasVnrArea',\n",
            "       'TotRmsAbvGrd', 'GarageYrBlt', 'BsmtFinSF1', 'Fireplaces',\n",
            "       'LotFrontage', 'OpenPorchSF', 'BsmtFullBath', 'LotArea', 'HalfBath',\n",
            "       'WoodDeckSF', '2ndFlrSF', 'OverallCond', 'BsmtUnfSF', 'BedroomAbvGr',\n",
            "       'EnclosedPorch'],\n",
            "      dtype='object')\n"
          ]
        }
      ],
      "source": [
        "price_train=cor_select(price_train)\n",
        "price_test= cor_select(price_test)"
      ]
    },
    {
      "cell_type": "code",
      "execution_count": 11,
      "metadata": {},
      "outputs": [
        {
          "name": "stdout",
          "output_type": "stream",
          "text": [
            "OverallQual        int64\n",
            "GrLivArea          int64\n",
            "GarageCars         int64\n",
            "GarageArea         int64\n",
            "TotalBsmtSF        int64\n",
            "1stFlrSF           int64\n",
            "FullBath           int64\n",
            "TotRmsAbvGrd       int64\n",
            "YearBuilt          int64\n",
            "YearRemodAdd       int64\n",
            "MasVnrArea       float64\n",
            "Fireplaces         int64\n",
            "GarageYrBlt      float64\n",
            "BsmtFinSF1         int64\n",
            "LotFrontage      float64\n",
            "WoodDeckSF         int64\n",
            "2ndFlrSF           int64\n",
            "OpenPorchSF        int64\n",
            "HalfBath           int64\n",
            "LotArea            int64\n",
            "BsmtFullBath       int64\n",
            "BsmtUnfSF          int64\n",
            "BedroomAbvGr       int64\n",
            "KitchenAbvGr       int64\n",
            "EnclosedPorch      int64\n",
            "Id                 int64\n",
            "SalePrice          int64\n",
            "dtype: object\n"
          ]
        }
      ],
      "source": [
        "print(price_train.dtypes)\n",
        "#it is observed that non of the data is an obj"
      ]
    },
    {
      "cell_type": "code",
      "execution_count": 12,
      "metadata": {},
      "outputs": [
        {
          "data": {
            "text/html": [
              "<div>\n",
              "<style scoped>\n",
              "    .dataframe tbody tr th:only-of-type {\n",
              "        vertical-align: middle;\n",
              "    }\n",
              "\n",
              "    .dataframe tbody tr th {\n",
              "        vertical-align: top;\n",
              "    }\n",
              "\n",
              "    .dataframe thead th {\n",
              "        text-align: right;\n",
              "    }\n",
              "</style>\n",
              "<table border=\"1\" class=\"dataframe\">\n",
              "  <thead>\n",
              "    <tr style=\"text-align: right;\">\n",
              "      <th></th>\n",
              "      <th>OverallQual</th>\n",
              "      <th>GrLivArea</th>\n",
              "      <th>GarageCars</th>\n",
              "      <th>GarageArea</th>\n",
              "      <th>TotalBsmtSF</th>\n",
              "      <th>1stFlrSF</th>\n",
              "      <th>FullBath</th>\n",
              "      <th>TotRmsAbvGrd</th>\n",
              "      <th>YearBuilt</th>\n",
              "      <th>YearRemodAdd</th>\n",
              "      <th>...</th>\n",
              "      <th>OpenPorchSF</th>\n",
              "      <th>HalfBath</th>\n",
              "      <th>LotArea</th>\n",
              "      <th>BsmtFullBath</th>\n",
              "      <th>BsmtUnfSF</th>\n",
              "      <th>BedroomAbvGr</th>\n",
              "      <th>KitchenAbvGr</th>\n",
              "      <th>EnclosedPorch</th>\n",
              "      <th>Id</th>\n",
              "      <th>SalePrice</th>\n",
              "    </tr>\n",
              "  </thead>\n",
              "  <tbody>\n",
              "    <tr>\n",
              "      <th>0</th>\n",
              "      <td>7</td>\n",
              "      <td>1710</td>\n",
              "      <td>2</td>\n",
              "      <td>548</td>\n",
              "      <td>856</td>\n",
              "      <td>856</td>\n",
              "      <td>2</td>\n",
              "      <td>8</td>\n",
              "      <td>2003</td>\n",
              "      <td>2003</td>\n",
              "      <td>...</td>\n",
              "      <td>61</td>\n",
              "      <td>1</td>\n",
              "      <td>8450</td>\n",
              "      <td>1</td>\n",
              "      <td>150</td>\n",
              "      <td>3</td>\n",
              "      <td>1</td>\n",
              "      <td>0</td>\n",
              "      <td>1</td>\n",
              "      <td>208500</td>\n",
              "    </tr>\n",
              "    <tr>\n",
              "      <th>1</th>\n",
              "      <td>6</td>\n",
              "      <td>1262</td>\n",
              "      <td>2</td>\n",
              "      <td>460</td>\n",
              "      <td>1262</td>\n",
              "      <td>1262</td>\n",
              "      <td>2</td>\n",
              "      <td>6</td>\n",
              "      <td>1976</td>\n",
              "      <td>1976</td>\n",
              "      <td>...</td>\n",
              "      <td>0</td>\n",
              "      <td>0</td>\n",
              "      <td>9600</td>\n",
              "      <td>0</td>\n",
              "      <td>284</td>\n",
              "      <td>3</td>\n",
              "      <td>1</td>\n",
              "      <td>0</td>\n",
              "      <td>2</td>\n",
              "      <td>181500</td>\n",
              "    </tr>\n",
              "    <tr>\n",
              "      <th>2</th>\n",
              "      <td>7</td>\n",
              "      <td>1786</td>\n",
              "      <td>2</td>\n",
              "      <td>608</td>\n",
              "      <td>920</td>\n",
              "      <td>920</td>\n",
              "      <td>2</td>\n",
              "      <td>6</td>\n",
              "      <td>2001</td>\n",
              "      <td>2002</td>\n",
              "      <td>...</td>\n",
              "      <td>42</td>\n",
              "      <td>1</td>\n",
              "      <td>11250</td>\n",
              "      <td>1</td>\n",
              "      <td>434</td>\n",
              "      <td>3</td>\n",
              "      <td>1</td>\n",
              "      <td>0</td>\n",
              "      <td>3</td>\n",
              "      <td>223500</td>\n",
              "    </tr>\n",
              "    <tr>\n",
              "      <th>3</th>\n",
              "      <td>7</td>\n",
              "      <td>1717</td>\n",
              "      <td>3</td>\n",
              "      <td>642</td>\n",
              "      <td>756</td>\n",
              "      <td>961</td>\n",
              "      <td>1</td>\n",
              "      <td>7</td>\n",
              "      <td>1915</td>\n",
              "      <td>1970</td>\n",
              "      <td>...</td>\n",
              "      <td>35</td>\n",
              "      <td>0</td>\n",
              "      <td>9550</td>\n",
              "      <td>1</td>\n",
              "      <td>540</td>\n",
              "      <td>3</td>\n",
              "      <td>1</td>\n",
              "      <td>272</td>\n",
              "      <td>4</td>\n",
              "      <td>140000</td>\n",
              "    </tr>\n",
              "    <tr>\n",
              "      <th>4</th>\n",
              "      <td>8</td>\n",
              "      <td>2198</td>\n",
              "      <td>3</td>\n",
              "      <td>836</td>\n",
              "      <td>1145</td>\n",
              "      <td>1145</td>\n",
              "      <td>2</td>\n",
              "      <td>9</td>\n",
              "      <td>2000</td>\n",
              "      <td>2000</td>\n",
              "      <td>...</td>\n",
              "      <td>84</td>\n",
              "      <td>1</td>\n",
              "      <td>14260</td>\n",
              "      <td>1</td>\n",
              "      <td>490</td>\n",
              "      <td>4</td>\n",
              "      <td>1</td>\n",
              "      <td>0</td>\n",
              "      <td>5</td>\n",
              "      <td>250000</td>\n",
              "    </tr>\n",
              "    <tr>\n",
              "      <th>...</th>\n",
              "      <td>...</td>\n",
              "      <td>...</td>\n",
              "      <td>...</td>\n",
              "      <td>...</td>\n",
              "      <td>...</td>\n",
              "      <td>...</td>\n",
              "      <td>...</td>\n",
              "      <td>...</td>\n",
              "      <td>...</td>\n",
              "      <td>...</td>\n",
              "      <td>...</td>\n",
              "      <td>...</td>\n",
              "      <td>...</td>\n",
              "      <td>...</td>\n",
              "      <td>...</td>\n",
              "      <td>...</td>\n",
              "      <td>...</td>\n",
              "      <td>...</td>\n",
              "      <td>...</td>\n",
              "      <td>...</td>\n",
              "      <td>...</td>\n",
              "    </tr>\n",
              "    <tr>\n",
              "      <th>1455</th>\n",
              "      <td>6</td>\n",
              "      <td>1647</td>\n",
              "      <td>2</td>\n",
              "      <td>460</td>\n",
              "      <td>953</td>\n",
              "      <td>953</td>\n",
              "      <td>2</td>\n",
              "      <td>7</td>\n",
              "      <td>1999</td>\n",
              "      <td>2000</td>\n",
              "      <td>...</td>\n",
              "      <td>40</td>\n",
              "      <td>1</td>\n",
              "      <td>7917</td>\n",
              "      <td>0</td>\n",
              "      <td>953</td>\n",
              "      <td>3</td>\n",
              "      <td>1</td>\n",
              "      <td>0</td>\n",
              "      <td>1456</td>\n",
              "      <td>175000</td>\n",
              "    </tr>\n",
              "    <tr>\n",
              "      <th>1456</th>\n",
              "      <td>6</td>\n",
              "      <td>2073</td>\n",
              "      <td>2</td>\n",
              "      <td>500</td>\n",
              "      <td>1542</td>\n",
              "      <td>2073</td>\n",
              "      <td>2</td>\n",
              "      <td>7</td>\n",
              "      <td>1978</td>\n",
              "      <td>1988</td>\n",
              "      <td>...</td>\n",
              "      <td>0</td>\n",
              "      <td>0</td>\n",
              "      <td>13175</td>\n",
              "      <td>1</td>\n",
              "      <td>589</td>\n",
              "      <td>3</td>\n",
              "      <td>1</td>\n",
              "      <td>0</td>\n",
              "      <td>1457</td>\n",
              "      <td>210000</td>\n",
              "    </tr>\n",
              "    <tr>\n",
              "      <th>1457</th>\n",
              "      <td>7</td>\n",
              "      <td>2340</td>\n",
              "      <td>1</td>\n",
              "      <td>252</td>\n",
              "      <td>1152</td>\n",
              "      <td>1188</td>\n",
              "      <td>2</td>\n",
              "      <td>9</td>\n",
              "      <td>1941</td>\n",
              "      <td>2006</td>\n",
              "      <td>...</td>\n",
              "      <td>60</td>\n",
              "      <td>0</td>\n",
              "      <td>9042</td>\n",
              "      <td>0</td>\n",
              "      <td>877</td>\n",
              "      <td>4</td>\n",
              "      <td>1</td>\n",
              "      <td>0</td>\n",
              "      <td>1458</td>\n",
              "      <td>266500</td>\n",
              "    </tr>\n",
              "    <tr>\n",
              "      <th>1458</th>\n",
              "      <td>5</td>\n",
              "      <td>1078</td>\n",
              "      <td>1</td>\n",
              "      <td>240</td>\n",
              "      <td>1078</td>\n",
              "      <td>1078</td>\n",
              "      <td>1</td>\n",
              "      <td>5</td>\n",
              "      <td>1950</td>\n",
              "      <td>1996</td>\n",
              "      <td>...</td>\n",
              "      <td>0</td>\n",
              "      <td>0</td>\n",
              "      <td>9717</td>\n",
              "      <td>1</td>\n",
              "      <td>0</td>\n",
              "      <td>2</td>\n",
              "      <td>1</td>\n",
              "      <td>112</td>\n",
              "      <td>1459</td>\n",
              "      <td>142125</td>\n",
              "    </tr>\n",
              "    <tr>\n",
              "      <th>1459</th>\n",
              "      <td>5</td>\n",
              "      <td>1256</td>\n",
              "      <td>1</td>\n",
              "      <td>276</td>\n",
              "      <td>1256</td>\n",
              "      <td>1256</td>\n",
              "      <td>1</td>\n",
              "      <td>6</td>\n",
              "      <td>1965</td>\n",
              "      <td>1965</td>\n",
              "      <td>...</td>\n",
              "      <td>68</td>\n",
              "      <td>1</td>\n",
              "      <td>9937</td>\n",
              "      <td>1</td>\n",
              "      <td>136</td>\n",
              "      <td>3</td>\n",
              "      <td>1</td>\n",
              "      <td>0</td>\n",
              "      <td>1460</td>\n",
              "      <td>147500</td>\n",
              "    </tr>\n",
              "  </tbody>\n",
              "</table>\n",
              "<p>1460 rows × 27 columns</p>\n",
              "</div>"
            ],
            "text/plain": [
              "      OverallQual  GrLivArea  GarageCars  GarageArea  TotalBsmtSF  1stFlrSF  \\\n",
              "0               7       1710           2         548          856       856   \n",
              "1               6       1262           2         460         1262      1262   \n",
              "2               7       1786           2         608          920       920   \n",
              "3               7       1717           3         642          756       961   \n",
              "4               8       2198           3         836         1145      1145   \n",
              "...           ...        ...         ...         ...          ...       ...   \n",
              "1455            6       1647           2         460          953       953   \n",
              "1456            6       2073           2         500         1542      2073   \n",
              "1457            7       2340           1         252         1152      1188   \n",
              "1458            5       1078           1         240         1078      1078   \n",
              "1459            5       1256           1         276         1256      1256   \n",
              "\n",
              "      FullBath  TotRmsAbvGrd  YearBuilt  YearRemodAdd  ...  OpenPorchSF  \\\n",
              "0            2             8       2003          2003  ...           61   \n",
              "1            2             6       1976          1976  ...            0   \n",
              "2            2             6       2001          2002  ...           42   \n",
              "3            1             7       1915          1970  ...           35   \n",
              "4            2             9       2000          2000  ...           84   \n",
              "...        ...           ...        ...           ...  ...          ...   \n",
              "1455         2             7       1999          2000  ...           40   \n",
              "1456         2             7       1978          1988  ...            0   \n",
              "1457         2             9       1941          2006  ...           60   \n",
              "1458         1             5       1950          1996  ...            0   \n",
              "1459         1             6       1965          1965  ...           68   \n",
              "\n",
              "      HalfBath  LotArea  BsmtFullBath  BsmtUnfSF  BedroomAbvGr  KitchenAbvGr  \\\n",
              "0            1     8450             1        150             3             1   \n",
              "1            0     9600             0        284             3             1   \n",
              "2            1    11250             1        434             3             1   \n",
              "3            0     9550             1        540             3             1   \n",
              "4            1    14260             1        490             4             1   \n",
              "...        ...      ...           ...        ...           ...           ...   \n",
              "1455         1     7917             0        953             3             1   \n",
              "1456         0    13175             1        589             3             1   \n",
              "1457         0     9042             0        877             4             1   \n",
              "1458         0     9717             1          0             2             1   \n",
              "1459         1     9937             1        136             3             1   \n",
              "\n",
              "      EnclosedPorch    Id  SalePrice  \n",
              "0                 0     1     208500  \n",
              "1                 0     2     181500  \n",
              "2                 0     3     223500  \n",
              "3               272     4     140000  \n",
              "4                 0     5     250000  \n",
              "...             ...   ...        ...  \n",
              "1455              0  1456     175000  \n",
              "1456              0  1457     210000  \n",
              "1457              0  1458     266500  \n",
              "1458            112  1459     142125  \n",
              "1459              0  1460     147500  \n",
              "\n",
              "[1460 rows x 27 columns]"
            ]
          },
          "execution_count": 12,
          "metadata": {},
          "output_type": "execute_result"
        }
      ],
      "source": [
        "price_train"
      ]
    },
    {
      "cell_type": "code",
      "execution_count": 13,
      "metadata": {},
      "outputs": [
        {
          "data": {
            "text/html": [
              "<div>\n",
              "<style scoped>\n",
              "    .dataframe tbody tr th:only-of-type {\n",
              "        vertical-align: middle;\n",
              "    }\n",
              "\n",
              "    .dataframe tbody tr th {\n",
              "        vertical-align: top;\n",
              "    }\n",
              "\n",
              "    .dataframe thead th {\n",
              "        text-align: right;\n",
              "    }\n",
              "</style>\n",
              "<table border=\"1\" class=\"dataframe\">\n",
              "  <thead>\n",
              "    <tr style=\"text-align: right;\">\n",
              "      <th></th>\n",
              "      <th>OverallQual</th>\n",
              "      <th>GrLivArea</th>\n",
              "      <th>GarageCars</th>\n",
              "      <th>GarageArea</th>\n",
              "      <th>TotalBsmtSF</th>\n",
              "      <th>1stFlrSF</th>\n",
              "      <th>YearBuilt</th>\n",
              "      <th>FullBath</th>\n",
              "      <th>YearRemodAdd</th>\n",
              "      <th>MasVnrArea</th>\n",
              "      <th>...</th>\n",
              "      <th>LotArea</th>\n",
              "      <th>HalfBath</th>\n",
              "      <th>WoodDeckSF</th>\n",
              "      <th>2ndFlrSF</th>\n",
              "      <th>OverallCond</th>\n",
              "      <th>BsmtUnfSF</th>\n",
              "      <th>BedroomAbvGr</th>\n",
              "      <th>EnclosedPorch</th>\n",
              "      <th>Id</th>\n",
              "      <th>SalePrice</th>\n",
              "    </tr>\n",
              "  </thead>\n",
              "  <tbody>\n",
              "    <tr>\n",
              "      <th>0</th>\n",
              "      <td>5</td>\n",
              "      <td>896</td>\n",
              "      <td>1.0</td>\n",
              "      <td>730.0</td>\n",
              "      <td>882.0</td>\n",
              "      <td>896</td>\n",
              "      <td>1961</td>\n",
              "      <td>1</td>\n",
              "      <td>1961</td>\n",
              "      <td>0.0</td>\n",
              "      <td>...</td>\n",
              "      <td>11622</td>\n",
              "      <td>0</td>\n",
              "      <td>140</td>\n",
              "      <td>0</td>\n",
              "      <td>6</td>\n",
              "      <td>270.0</td>\n",
              "      <td>2</td>\n",
              "      <td>0</td>\n",
              "      <td>1461</td>\n",
              "      <td>115000</td>\n",
              "    </tr>\n",
              "    <tr>\n",
              "      <th>1</th>\n",
              "      <td>6</td>\n",
              "      <td>1329</td>\n",
              "      <td>1.0</td>\n",
              "      <td>312.0</td>\n",
              "      <td>1329.0</td>\n",
              "      <td>1329</td>\n",
              "      <td>1958</td>\n",
              "      <td>1</td>\n",
              "      <td>1958</td>\n",
              "      <td>108.0</td>\n",
              "      <td>...</td>\n",
              "      <td>14267</td>\n",
              "      <td>1</td>\n",
              "      <td>393</td>\n",
              "      <td>0</td>\n",
              "      <td>6</td>\n",
              "      <td>406.0</td>\n",
              "      <td>3</td>\n",
              "      <td>0</td>\n",
              "      <td>1462</td>\n",
              "      <td>158000</td>\n",
              "    </tr>\n",
              "    <tr>\n",
              "      <th>2</th>\n",
              "      <td>5</td>\n",
              "      <td>1629</td>\n",
              "      <td>2.0</td>\n",
              "      <td>482.0</td>\n",
              "      <td>928.0</td>\n",
              "      <td>928</td>\n",
              "      <td>1997</td>\n",
              "      <td>2</td>\n",
              "      <td>1998</td>\n",
              "      <td>0.0</td>\n",
              "      <td>...</td>\n",
              "      <td>13830</td>\n",
              "      <td>1</td>\n",
              "      <td>212</td>\n",
              "      <td>701</td>\n",
              "      <td>5</td>\n",
              "      <td>137.0</td>\n",
              "      <td>3</td>\n",
              "      <td>0</td>\n",
              "      <td>1463</td>\n",
              "      <td>173000</td>\n",
              "    </tr>\n",
              "    <tr>\n",
              "      <th>3</th>\n",
              "      <td>6</td>\n",
              "      <td>1604</td>\n",
              "      <td>2.0</td>\n",
              "      <td>470.0</td>\n",
              "      <td>926.0</td>\n",
              "      <td>926</td>\n",
              "      <td>1998</td>\n",
              "      <td>2</td>\n",
              "      <td>1998</td>\n",
              "      <td>20.0</td>\n",
              "      <td>...</td>\n",
              "      <td>9978</td>\n",
              "      <td>1</td>\n",
              "      <td>360</td>\n",
              "      <td>678</td>\n",
              "      <td>6</td>\n",
              "      <td>324.0</td>\n",
              "      <td>3</td>\n",
              "      <td>0</td>\n",
              "      <td>1464</td>\n",
              "      <td>178000</td>\n",
              "    </tr>\n",
              "    <tr>\n",
              "      <th>4</th>\n",
              "      <td>8</td>\n",
              "      <td>1280</td>\n",
              "      <td>2.0</td>\n",
              "      <td>506.0</td>\n",
              "      <td>1280.0</td>\n",
              "      <td>1280</td>\n",
              "      <td>1992</td>\n",
              "      <td>2</td>\n",
              "      <td>1992</td>\n",
              "      <td>0.0</td>\n",
              "      <td>...</td>\n",
              "      <td>5005</td>\n",
              "      <td>0</td>\n",
              "      <td>0</td>\n",
              "      <td>0</td>\n",
              "      <td>5</td>\n",
              "      <td>1017.0</td>\n",
              "      <td>2</td>\n",
              "      <td>0</td>\n",
              "      <td>1465</td>\n",
              "      <td>220000</td>\n",
              "    </tr>\n",
              "    <tr>\n",
              "      <th>...</th>\n",
              "      <td>...</td>\n",
              "      <td>...</td>\n",
              "      <td>...</td>\n",
              "      <td>...</td>\n",
              "      <td>...</td>\n",
              "      <td>...</td>\n",
              "      <td>...</td>\n",
              "      <td>...</td>\n",
              "      <td>...</td>\n",
              "      <td>...</td>\n",
              "      <td>...</td>\n",
              "      <td>...</td>\n",
              "      <td>...</td>\n",
              "      <td>...</td>\n",
              "      <td>...</td>\n",
              "      <td>...</td>\n",
              "      <td>...</td>\n",
              "      <td>...</td>\n",
              "      <td>...</td>\n",
              "      <td>...</td>\n",
              "      <td>...</td>\n",
              "    </tr>\n",
              "    <tr>\n",
              "      <th>1454</th>\n",
              "      <td>4</td>\n",
              "      <td>1092</td>\n",
              "      <td>0.0</td>\n",
              "      <td>0.0</td>\n",
              "      <td>546.0</td>\n",
              "      <td>546</td>\n",
              "      <td>1970</td>\n",
              "      <td>1</td>\n",
              "      <td>1970</td>\n",
              "      <td>0.0</td>\n",
              "      <td>...</td>\n",
              "      <td>1936</td>\n",
              "      <td>1</td>\n",
              "      <td>0</td>\n",
              "      <td>546</td>\n",
              "      <td>7</td>\n",
              "      <td>546.0</td>\n",
              "      <td>3</td>\n",
              "      <td>0</td>\n",
              "      <td>2915</td>\n",
              "      <td>92000</td>\n",
              "    </tr>\n",
              "    <tr>\n",
              "      <th>1455</th>\n",
              "      <td>4</td>\n",
              "      <td>1092</td>\n",
              "      <td>1.0</td>\n",
              "      <td>286.0</td>\n",
              "      <td>546.0</td>\n",
              "      <td>546</td>\n",
              "      <td>1970</td>\n",
              "      <td>1</td>\n",
              "      <td>1970</td>\n",
              "      <td>0.0</td>\n",
              "      <td>...</td>\n",
              "      <td>1894</td>\n",
              "      <td>1</td>\n",
              "      <td>0</td>\n",
              "      <td>546</td>\n",
              "      <td>5</td>\n",
              "      <td>294.0</td>\n",
              "      <td>3</td>\n",
              "      <td>0</td>\n",
              "      <td>2916</td>\n",
              "      <td>88000</td>\n",
              "    </tr>\n",
              "    <tr>\n",
              "      <th>1456</th>\n",
              "      <td>5</td>\n",
              "      <td>1224</td>\n",
              "      <td>2.0</td>\n",
              "      <td>576.0</td>\n",
              "      <td>1224.0</td>\n",
              "      <td>1224</td>\n",
              "      <td>1960</td>\n",
              "      <td>1</td>\n",
              "      <td>1996</td>\n",
              "      <td>0.0</td>\n",
              "      <td>...</td>\n",
              "      <td>20000</td>\n",
              "      <td>0</td>\n",
              "      <td>474</td>\n",
              "      <td>0</td>\n",
              "      <td>7</td>\n",
              "      <td>0.0</td>\n",
              "      <td>4</td>\n",
              "      <td>0</td>\n",
              "      <td>2917</td>\n",
              "      <td>137500</td>\n",
              "    </tr>\n",
              "    <tr>\n",
              "      <th>1457</th>\n",
              "      <td>5</td>\n",
              "      <td>970</td>\n",
              "      <td>0.0</td>\n",
              "      <td>0.0</td>\n",
              "      <td>912.0</td>\n",
              "      <td>970</td>\n",
              "      <td>1992</td>\n",
              "      <td>1</td>\n",
              "      <td>1992</td>\n",
              "      <td>0.0</td>\n",
              "      <td>...</td>\n",
              "      <td>10441</td>\n",
              "      <td>0</td>\n",
              "      <td>80</td>\n",
              "      <td>0</td>\n",
              "      <td>5</td>\n",
              "      <td>575.0</td>\n",
              "      <td>3</td>\n",
              "      <td>0</td>\n",
              "      <td>2918</td>\n",
              "      <td>146500</td>\n",
              "    </tr>\n",
              "    <tr>\n",
              "      <th>1458</th>\n",
              "      <td>7</td>\n",
              "      <td>2000</td>\n",
              "      <td>3.0</td>\n",
              "      <td>650.0</td>\n",
              "      <td>996.0</td>\n",
              "      <td>996</td>\n",
              "      <td>1993</td>\n",
              "      <td>2</td>\n",
              "      <td>1994</td>\n",
              "      <td>94.0</td>\n",
              "      <td>...</td>\n",
              "      <td>9627</td>\n",
              "      <td>1</td>\n",
              "      <td>190</td>\n",
              "      <td>1004</td>\n",
              "      <td>5</td>\n",
              "      <td>238.0</td>\n",
              "      <td>3</td>\n",
              "      <td>0</td>\n",
              "      <td>2919</td>\n",
              "      <td>230000</td>\n",
              "    </tr>\n",
              "  </tbody>\n",
              "</table>\n",
              "<p>1459 rows × 27 columns</p>\n",
              "</div>"
            ],
            "text/plain": [
              "      OverallQual  GrLivArea  GarageCars  GarageArea  TotalBsmtSF  1stFlrSF  \\\n",
              "0               5        896         1.0       730.0        882.0       896   \n",
              "1               6       1329         1.0       312.0       1329.0      1329   \n",
              "2               5       1629         2.0       482.0        928.0       928   \n",
              "3               6       1604         2.0       470.0        926.0       926   \n",
              "4               8       1280         2.0       506.0       1280.0      1280   \n",
              "...           ...        ...         ...         ...          ...       ...   \n",
              "1454            4       1092         0.0         0.0        546.0       546   \n",
              "1455            4       1092         1.0       286.0        546.0       546   \n",
              "1456            5       1224         2.0       576.0       1224.0      1224   \n",
              "1457            5        970         0.0         0.0        912.0       970   \n",
              "1458            7       2000         3.0       650.0        996.0       996   \n",
              "\n",
              "      YearBuilt  FullBath  YearRemodAdd  MasVnrArea  ...  LotArea  HalfBath  \\\n",
              "0          1961         1          1961         0.0  ...    11622         0   \n",
              "1          1958         1          1958       108.0  ...    14267         1   \n",
              "2          1997         2          1998         0.0  ...    13830         1   \n",
              "3          1998         2          1998        20.0  ...     9978         1   \n",
              "4          1992         2          1992         0.0  ...     5005         0   \n",
              "...         ...       ...           ...         ...  ...      ...       ...   \n",
              "1454       1970         1          1970         0.0  ...     1936         1   \n",
              "1455       1970         1          1970         0.0  ...     1894         1   \n",
              "1456       1960         1          1996         0.0  ...    20000         0   \n",
              "1457       1992         1          1992         0.0  ...    10441         0   \n",
              "1458       1993         2          1994        94.0  ...     9627         1   \n",
              "\n",
              "      WoodDeckSF  2ndFlrSF  OverallCond  BsmtUnfSF  BedroomAbvGr  \\\n",
              "0            140         0            6      270.0             2   \n",
              "1            393         0            6      406.0             3   \n",
              "2            212       701            5      137.0             3   \n",
              "3            360       678            6      324.0             3   \n",
              "4              0         0            5     1017.0             2   \n",
              "...          ...       ...          ...        ...           ...   \n",
              "1454           0       546            7      546.0             3   \n",
              "1455           0       546            5      294.0             3   \n",
              "1456         474         0            7        0.0             4   \n",
              "1457          80         0            5      575.0             3   \n",
              "1458         190      1004            5      238.0             3   \n",
              "\n",
              "      EnclosedPorch    Id  SalePrice  \n",
              "0                 0  1461     115000  \n",
              "1                 0  1462     158000  \n",
              "2                 0  1463     173000  \n",
              "3                 0  1464     178000  \n",
              "4                 0  1465     220000  \n",
              "...             ...   ...        ...  \n",
              "1454              0  2915      92000  \n",
              "1455              0  2916      88000  \n",
              "1456              0  2917     137500  \n",
              "1457              0  2918     146500  \n",
              "1458              0  2919     230000  \n",
              "\n",
              "[1459 rows x 27 columns]"
            ]
          },
          "execution_count": 13,
          "metadata": {},
          "output_type": "execute_result"
        }
      ],
      "source": [
        "price_test"
      ]
    },
    {
      "attachments": {},
      "cell_type": "markdown",
      "metadata": {},
      "source": [
        "It is observed that non of the columns selected using the correlation are neither categorical or norminal.\n",
        "The code below is stored for future reference"
      ]
    },
    {
      "cell_type": "code",
      "execution_count": 14,
      "metadata": {},
      "outputs": [],
      "source": [
        "#le = LabelEncoder()\n",
        "#y = le.fit_transform(y)\n",
        "\n",
        "#onehotencoder = OneHotEncoder()\n",
        "#X = onehotencoder.fit_transform(X).toarray()"
      ]
    },
    {
      "cell_type": "code",
      "execution_count": 15,
      "metadata": {},
      "outputs": [],
      "source": [
        "\n",
        "\n",
        "#def labelencoder(db):\n",
        "#    le = LabelEncoder()\n",
        "#    for col in db.columns:\n",
        "#        if price_train[col].dtype == 'object':\n",
        "#            price_train[col] = le.fit_transform(db[col].astype(str))\n"
      ]
    },
    {
      "cell_type": "markdown",
      "metadata": {
        "id": "hhnNAO-wnXM6"
      },
      "source": [
        "## Part 2: Decision Tree (45 points)\n",
        "#### Building a Decision Tree:\n",
        "A Decision tree consists of nodes connected by edges. A decision tree is typically, a binary tree, which has the following properties:\n",
        "- One node is marked as Root node\n",
        "- Every node other than the root has a parent node\n",
        "- Each node can have at most 2 child nodes (left edge & right edge)\n",
        "- Leaf node is the node which contains pure data or when we reach to the maximum depth \n",
        "\n",
        "To create the decision tree model for scratch you need to create two classes (a class for the node, for example \"class DecisionNode():\" and a class for Decision Tree model, for example \"class RegressionDecisionTree():\")\n",
        "\n",
        "\n",
        "1- DecisionNode class used to save some values for each node we do the spliting on it until we reach the leaf node\n",
        "so we will save the following values for the node:\n",
        "- feature: feature index.\n",
        "- threshold: the value we used to split the data on.\n",
        "- value: the average value for the leaf node.\n",
        "- True_Branch: if the condition is true.\n",
        "- False_Branch: if the condition is false."
      ]
    },
    {
      "cell_type": "code",
      "execution_count": 16,
      "metadata": {
        "id": "cYNFB7QY-SJK"
      },
      "outputs": [],
      "source": [
        "class DecisionNode():\n",
        "    def __init__(self, feature_idx=None, threshold=None, value=None, true_branch=None, false_branch=None):\n",
        "        self.feature_idx = feature_idx # index of the feature that is used\n",
        "        self.threshold = threshold     # threshold value for feature when making the decision\n",
        "        self.value = value # Average value if the node is a leaf in the tree\n",
        "        self.true_branch = true_branch # the node we go to if decision returns True\n",
        "        self.false_branch = false_branch # the node we go to if decision returns False"
      ]
    },
    {
      "cell_type": "markdown",
      "metadata": {
        "id": "iYpCv95F-SJK"
      },
      "source": [
        "# Decision Tree Class\n",
        "This Class consists the following functions:\n",
        "<ol>\n",
        "<li> <b>build_tree</b>: used to create the decision tree nodes</li> \n",
        "<li> <b>calc_variance_reduction</b> : measure the impurity by using variance reduction measure (like MSE) </li> \n",
        "the function takes three parameters (parentRec: the records for the target before split,and the left and right records after splitting. This function used to measure the impurity for each node and decide if we will split or not.\n",
        "<li> <b>majority_vote</b>: used to calculate values for the leaf nodes records which equal to the mean of these records.</li> \n",
        "<li><b>split_by_feature</b>: this function take the feature and the threshold and check if the feature is numerical so it split the records into two node (true which is the left edge and false which is the right edge)\n",
        "if the feature is categorical so it split where the values equal to the threshold</li>\n",
        "<li> <b>fit</b>: Used to train the dataset after spliting the data into two part x: features, y: target</li>\n",
        "<li><b>predict_value</b>: used to predict the value for each record, it is a recursive method to find the leaf node that corresponds to prediction\n",
        "<li><b>predict</b>: take all records for the test data and iterate into each record to predit the y(target) value and save the result into a prediction list. "
      ]
    },
    {
      "cell_type": "code",
      "execution_count": 17,
      "metadata": {
        "id": "HSe6v4r1-SJK"
      },
      "outputs": [],
      "source": [
        "class RegressionDecisionTree():\n",
        "    # constructor\n",
        "    def __init__(self, min_VarianceReduction=1e-7, max_depth=5):        \n",
        "        self.root = None # root of this tree\n",
        "        self.min_VarianceReduction = min_VarianceReduction # minimum VarianceReduction to allow splitting\n",
        "        # used to stopping conductions\n",
        "        self.max_depth = max_depth # maximum depth the tree grows to\n",
        " \n",
        "\n",
        "    # used to create the decision tree nodes\n",
        "    def build_tree(self, X, y, current_depth=0):\n",
        "        # we will use decision dictionary to save the feature and the threshold we build the tree on \n",
        "        decision = None\n",
        "        # we will use subtrees dictionary to save the feature and the threshold we build the tree on \n",
        "        subtrees = None\n",
        "        largest_variance_Reduction = 0\n",
        "        # add y as last column of X\n",
        "        df = pd.concat((X, y), axis=1)\n",
        "        n_rows, n_features = X.shape\n",
        "        if current_depth <= self.max_depth:\n",
        "            # iterate through every feature\n",
        "            for feature_idx in range(n_features):\n",
        "                # values of that column\n",
        "                feature_values = X.iloc[:, feature_idx]                \n",
        "                unique_values = feature_values.unique()                \n",
        "                for threshold in unique_values:\n",
        "                    X_trueEdge, X_falseEdge = self.split_by_feature(df, feature_idx, threshold)\n",
        "                    if len(X_trueEdge) > 0 and len(X_falseEdge) > 0:\n",
        "                        y_true = X_trueEdge.iloc[:,-1]\n",
        "                        y_false = X_falseEdge.iloc[:,-1]                        \n",
        "                        # Calculate impurity\n",
        "                        VarianceRed = self.Calc_variance_reduction(y, y_true, y_false)\n",
        "                        # Keep track of which feature gave the largest information gain\n",
        "                        if VarianceRed > largest_variance_Reduction:\n",
        "                            largest_variance_Reduction = VarianceRed\n",
        "                            decision = {\"feature_idx\":feature_idx, \"threshold\":threshold}\n",
        "                            subtrees = {\"X_true\":X_trueEdge.iloc[:,:-1],\n",
        "                                        \"y_true\":y_true,\n",
        "                                        \"X_false\":X_falseEdge.iloc[:,:-1],\n",
        "                                        \"y_false\":y_false}\n",
        "\n",
        "        # we will construct new branch of tree if the variance_Reduction is larger than minimum variance_Reduction that we've defined\n",
        "        if largest_variance_Reduction > self.min_VarianceReduction:\n",
        "            true_branch = self.build_tree(subtrees[\"X_true\"], subtrees[\"y_true\"], current_depth+1)\n",
        "            false_branch = self.build_tree(subtrees[\"X_false\"], subtrees[\"y_false\"], current_depth+1)\n",
        "            return DecisionNode(feature_idx=decision[\"feature_idx\"], threshold=decision[\"threshold\"], true_branch=true_branch, false_branch=false_branch)\n",
        "\n",
        "        # at leaf node we calculate the mean for the records\n",
        "        leaf_value = self.majority_vote(y)\n",
        "        return DecisionNode(value=leaf_value)\n",
        "                        \n",
        "    # measure the impurity by using variance reduction measure (like MSE)\n",
        "    # left_edgeRec= True edge: where condition is true\n",
        "    # Right_edgeRec= False edge: where condition is false\n",
        "    def Calc_variance_reduction(self, parentRec, left_edgeRec, Right_edgeRec):   \n",
        "        # return the VarReduction = variance for parent - (Weight * var(leftEdge) + Weight * var(RightEdge)    \n",
        "        weight_left = len(left_edgeRec)/len(parentRec)\n",
        "        weight_right = len(Right_edgeRec)/len(parentRec)\n",
        "        Var_red = np.var(parentRec) - ((weight_left*np.var(left_edgeRec))+ (weight_right*np.var(Right_edgeRec)))\n",
        "        return (Var_red)\n",
        "        \n",
        "    \n",
        "    def majority_vote(self, Y): \n",
        "        # return the majority_vote for the leaf nodes \n",
        "        vote= np.mean(Y)\n",
        "        return(vote)\n",
        "        \n",
        "             \n",
        "    def split_by_feature(self, db, feature_idx, threshold):\n",
        "    \n",
        "        # split the data into left_edge & right_edge depends one specified feature and the threshold\n",
        "        # return left & right edges\n",
        "        #if isinstance(threshold, int) or isinstance(threshold, float):\n",
        "        if isinstance(threshold, int) or isinstance(threshold, float):\n",
        "            X_true = db[db.iloc[:,feature_idx] >= threshold]\n",
        "            X_false = db[db.iloc[:,feature_idx] < threshold]\n",
        "        # if the feature is categorical\n",
        "        else:\n",
        "            X_true = db[db.iloc[:,feature_idx] == threshold]\n",
        "            X_false = db[~db.iloc[:,feature_idx] == threshold]\n",
        "        return X_true, X_false\n",
        "        \n",
        "\n",
        "    \n",
        "    # Used to train the dataset after spliting the data into x: features, y: target\n",
        "    def fit(self, X, y):\n",
        "        self.root = self.build_tree(X, y)\n",
        "\n",
        "\n",
        "    def predict_value(self, xTest, tree=None):\n",
        "        # recursive method to find the leaf node that corresponds to prediction\n",
        "        \n",
        "        if tree is None:\n",
        "            tree = self.root\n",
        "        if tree.value is not None:\n",
        "            return tree.value\n",
        "        feature_value = xTest[tree.feature_idx]\n",
        "        branch = tree.false_branch\n",
        "        if isinstance(feature_value, int) or isinstance(feature_value, float):\n",
        "            if feature_value >= tree.threshold:\n",
        "                branch = tree.true_branch\n",
        "        elif feature_value == tree.threshold:\n",
        "            branch = tree.true_branch\n",
        "        return self.predict_value(xTest, branch)\n",
        "\n",
        "    # to predict the value we need to pass the all records for features and we save the prediction for each records into a list\n",
        "    def predict(self, XTest):\n",
        "        y_pred = []\n",
        "        for idx, row in XTest.iterrows():           \n",
        "            y_pred.append(self.predict_value(row.values))\n",
        "        return y_pred\n"
      ]
    },
    {
      "cell_type": "markdown",
      "metadata": {
        "id": "S9aqjovq-SJM"
      },
      "source": [
        "- To Check the Accuracy for our prediction we use CalcAccuracy function which take the actual values for the test dataset and the predicted values and apply the RMSE formula."
      ]
    },
    {
      "cell_type": "code",
      "execution_count": 18,
      "metadata": {
        "id": "24p2WfE8-SJN"
      },
      "outputs": [],
      "source": [
        "def CalcAccuracy(Actual_Y, Predicted_y):\n",
        "    \n",
        "    actual_values=Actual_Y.to_numpy()\n",
        "    predicted_values=np.array(Predicted_y)\n",
        "    error= abs(actual_values-predicted_values)\n",
        "    mse=np.mean(np.square(error))\n",
        "    rel_err=mse/np.mean(np.square(actual_values))\n",
        "    accuracy=1-rel_err\n",
        "    return(accuracy)"
      ]
    },
    {
      "cell_type": "code",
      "execution_count": 19,
      "metadata": {},
      "outputs": [
        {
          "data": {
            "text/plain": [
              "0.940292578774546"
            ]
          },
          "execution_count": 19,
          "metadata": {},
          "output_type": "execute_result"
        }
      ],
      "source": [
        "test_tree=RegressionDecisionTree(min_VarianceReduction=1e-7, max_depth=5)\n",
        "test_tree.fit(price_train.iloc[:,:-1], price_train.iloc[:,-1])\n",
        "prdicted=test_tree.predict(price_train.iloc[:,:-1])\n",
        "CalcAccuracy((price_train.iloc[:,-1]),prdicted)\n",
        "#train data"
      ]
    },
    {
      "cell_type": "code",
      "execution_count": null,
      "metadata": {},
      "outputs": [],
      "source": []
    },
    {
      "cell_type": "code",
      "execution_count": 20,
      "metadata": {},
      "outputs": [
        {
          "data": {
            "text/plain": [
              "0.8159622753785021"
            ]
          },
          "execution_count": 20,
          "metadata": {},
          "output_type": "execute_result"
        }
      ],
      "source": [
        "test_tree=RegressionDecisionTree(min_VarianceReduction=1e-6, max_depth=5)\n",
        "test_tree.fit(price_train.iloc[:,:-1], price_train.iloc[:,-1])\n",
        "prdicted=test_tree.predict(price_test.iloc[:,:-1])\n",
        "CalcAccuracy((price_test.iloc[:,-1]),prdicted)\n",
        "#test data"
      ]
    },
    {
      "cell_type": "markdown",
      "metadata": {
        "id": "5_2Ve9v--SJN"
      },
      "source": [
        "- Build decision tree model\n",
        "- Fit the model\n",
        "- Predict the values from test data "
      ]
    },
    {
      "cell_type": "markdown",
      "metadata": {
        "id": "TvzaxcPAoJsk"
      },
      "source": [
        "## Part 3: Random Forest (20 points)\n",
        "#### Random forest class\n",
        "- the Class consist of the following functions:\n",
        "<ul>\n",
        "    <li>Constructor: consists of the subset data (Training & Testing) dataset after preprocessing and a list of deciceion tree objects </li>    \n",
        "    <li>Subsampling: Bagging we will take random sample with replacement for the Training dataset </li>\n",
        "    <li>build_model: first make subsample for the training dataset, then split the data into featurespart(X) and targetpart(Y), then take 10 samples of the feature part, finally build the decision tree (fit), this function take the number of DT that we want to build</li>\n",
        "    <li>predict: take the test dataset and make the prediction for the target field in all the tree in the random forest then take the mean for the prediction in each tree, finally add the mean of prediction to a list of predition </li>\n",
        "\n",
        "</ul>"
      ]
    },
    {
      "cell_type": "code",
      "execution_count": 21,
      "metadata": {
        "id": "a00zi12Q-SJO"
      },
      "outputs": [],
      "source": [
        "class RandomForest:\n",
        "    def __init__(self, number_of_trees=10, sample_size_ratio=0.5, max_depth=2,min_VarianceReduction=1e-7):\n",
        "        self.Traindata = None  # training data set (loaded into memory)\n",
        "        self.Testdata = None  # Test data set for prediction        \n",
        "        self.trees = []  # list of decision trees \n",
        "        self.number_of_trees=number_of_trees\n",
        "        self.sample_size_ratio=sample_size_ratio\n",
        "        self.max_depth=max_depth\n",
        "        self.min_VarianceReduction=min_VarianceReduction\n",
        "     # This function generate a subsample with replacement\n",
        "    def __subsampling(self, train_set):       \n",
        "        sample_number = round(len(train_set) * self.sample_size_ratio)\n",
        "        return  train_set.sample(n = sample_number, replace=True)\n",
        "        \n",
        "        \n",
        "        \n",
        "    def build_model(self, train_set):\n",
        "        for i in range(self.number_of_trees):\n",
        "            TrainingSample = self.__subsampling(train_set)\n",
        "            tree=RegressionDecisionTree(min_VarianceReduction=self.min_VarianceReduction,max_depth= self.max_depth)\n",
        "            tree.fit(TrainingSample.iloc[:,:-1], TrainingSample.iloc[:,-1])\n",
        "            self.trees.append(tree)\n",
        "\n",
        "            \n",
        "               \n",
        "    def predict(self, test_set):\n",
        "        predictions=np.array([tree.predict(test_set) for tree in self.trees])\n",
        "        return np.mean(predictions, axis=0) #column mean for the decision tree\n",
        "        # Predict for each item in the list \n",
        "        # Calculate the mean \n",
        "    "
      ]
    },
    {
      "attachments": {},
      "cell_type": "markdown",
      "metadata": {},
      "source": [
        "### Create Random Forest\n",
        "\n",
        "* Create 10 Decision Tree in the randomforest\n",
        "* Train the random forest with the dataset\n",
        "* Use the created random forest to predict the test dataset "
      ]
    },
    {
      "cell_type": "code",
      "execution_count": 22,
      "metadata": {},
      "outputs": [
        {
          "data": {
            "text/plain": [
              "0.9158212462762418"
            ]
          },
          "execution_count": 22,
          "metadata": {},
          "output_type": "execute_result"
        }
      ],
      "source": [
        "RF=RandomForest(number_of_trees=10, min_VarianceReduction=1e-7,sample_size_ratio=0.4, max_depth=2)\n",
        "RF.build_model(price_train)\n",
        "rf_prd=RF.predict(price_train.iloc[:,:-1])\n",
        "CalcAccuracy((price_train.iloc[:,-1]),rf_prd)\n",
        "#train data"
      ]
    },
    {
      "cell_type": "code",
      "execution_count": 23,
      "metadata": {},
      "outputs": [
        {
          "data": {
            "text/plain": [
              "0.8160254164603982"
            ]
          },
          "execution_count": 23,
          "metadata": {},
          "output_type": "execute_result"
        }
      ],
      "source": [
        "RF=RandomForest(number_of_trees=10, min_VarianceReduction=1e-7,sample_size_ratio=0.4, max_depth=2)\n",
        "RF.build_model(price_train)\n",
        "rf_prd=RF.predict(price_test.iloc[:,:-1])\n",
        "CalcAccuracy((price_test.iloc[:,-1]),rf_prd)\n",
        "#test data"
      ]
    },
    {
      "cell_type": "markdown",
      "metadata": {
        "id": "CVGAlCDkoRfo"
      },
      "source": [
        "##Part4: Comparison! (15 points)"
      ]
    },
    {
      "cell_type": "markdown",
      "metadata": {
        "id": "8tHF7qjiBl6A"
      },
      "source": [
        "Now that you have finished implementing your Random Forest, it's time for some experiments and analysis! \n",
        "\n",
        "* Use the Random Forest in the scikit-learn library and train it on the same dataset. \n",
        "\n",
        "* Compare the accuracy given by your Random Forest to the scikit-learn one. \n",
        "\n",
        "* Increase the number of trees in your Random Forest. Does it improve the accuracy? \n",
        "\n",
        "* Make a table for comparing your Random Forest accuracy with different number of trees with the scikit-learn one. What is your conclusion? "
      ]
    },
    {
      "cell_type": "code",
      "execution_count": 24,
      "metadata": {},
      "outputs": [],
      "source": [
        "from sklearn.ensemble import RandomForestRegressor\n",
        "from sklearn.tree import DecisionTreeRegressor"
      ]
    },
    {
      "cell_type": "code",
      "execution_count": 25,
      "metadata": {},
      "outputs": [],
      "source": [
        "sk_tree=DecisionTreeRegressor(max_depth=5,min_impurity_decrease=0.0000001)"
      ]
    },
    {
      "cell_type": "code",
      "execution_count": 26,
      "metadata": {},
      "outputs": [
        {
          "data": {
            "text/plain": [
              "0.9771595883339913"
            ]
          },
          "execution_count": 26,
          "metadata": {},
          "output_type": "execute_result"
        }
      ],
      "source": [
        "\n",
        "sk_tree.fit(price_train.iloc[:,:-1], price_train.iloc[:,-1])\n",
        "sk_predicted=sk_tree.predict(price_train.iloc[:,:-1])\n",
        "CalcAccuracy((price_train.iloc[:,-1]),sk_predicted)\n",
        "#train"
      ]
    },
    {
      "cell_type": "code",
      "execution_count": 27,
      "metadata": {},
      "outputs": [
        {
          "name": "stderr",
          "output_type": "stream",
          "text": [
            "c:\\ProgramData\\Anaconda3\\lib\\site-packages\\sklearn\\base.py:493: FutureWarning: The feature names should match those that were passed during fit. Starting version 1.2, an error will be raised.\n",
            "Feature names unseen at fit time:\n",
            "- OverallCond\n",
            "Feature names seen at fit time, yet now missing:\n",
            "- KitchenAbvGr\n",
            "\n",
            "  warnings.warn(message, FutureWarning)\n"
          ]
        },
        {
          "data": {
            "text/plain": [
              "0.9454337924589592"
            ]
          },
          "execution_count": 27,
          "metadata": {},
          "output_type": "execute_result"
        }
      ],
      "source": [
        "\n",
        "sk_tree.fit(price_train.iloc[:,:-1], price_train.iloc[:,-1])#fit with train data\n",
        "sk_prd=sk_tree.predict(price_test.iloc[:,:-1])\n",
        "CalcAccuracy((price_test.iloc[:,-1]),sk_prd)\n",
        "#test"
      ]
    },
    {
      "cell_type": "code",
      "execution_count": 28,
      "metadata": {},
      "outputs": [],
      "source": [
        "sk_RF = RandomForestRegressor(n_estimators=10,max_depth=2)"
      ]
    },
    {
      "cell_type": "code",
      "execution_count": 29,
      "metadata": {},
      "outputs": [
        {
          "data": {
            "text/plain": [
              "0.9512123051588064"
            ]
          },
          "execution_count": 29,
          "metadata": {},
          "output_type": "execute_result"
        }
      ],
      "source": [
        "sk_RF.fit(price_train.iloc[:,:-1], price_train.iloc[:,-1])\n",
        "sk_predicted=sk_RF.predict(price_train.iloc[:,:-1])\n",
        "CalcAccuracy((price_train.iloc[:,-1]),sk_predicted)\n",
        "#train"
      ]
    },
    {
      "cell_type": "code",
      "execution_count": 30,
      "metadata": {},
      "outputs": [
        {
          "name": "stderr",
          "output_type": "stream",
          "text": [
            "c:\\ProgramData\\Anaconda3\\lib\\site-packages\\sklearn\\base.py:493: FutureWarning: The feature names should match those that were passed during fit. Starting version 1.2, an error will be raised.\n",
            "Feature names unseen at fit time:\n",
            "- OverallCond\n",
            "Feature names seen at fit time, yet now missing:\n",
            "- KitchenAbvGr\n",
            "\n",
            "  warnings.warn(message, FutureWarning)\n"
          ]
        },
        {
          "data": {
            "text/plain": [
              "0.9366992009555213"
            ]
          },
          "execution_count": 30,
          "metadata": {},
          "output_type": "execute_result"
        }
      ],
      "source": [
        "sk_RF.fit(price_train.iloc[:,:-1], price_train.iloc[:,-1])#fit with train data\n",
        "sk_predicted=sk_RF.predict(price_test.iloc[:,:-1])\n",
        "CalcAccuracy((price_test.iloc[:,-1]),sk_predicted)\n",
        "#test"
      ]
    },
    {
      "cell_type": "code",
      "execution_count": 31,
      "metadata": {},
      "outputs": [
        {
          "name": "stderr",
          "output_type": "stream",
          "text": [
            "c:\\ProgramData\\Anaconda3\\lib\\site-packages\\sklearn\\base.py:493: FutureWarning: The feature names should match those that were passed during fit. Starting version 1.2, an error will be raised.\n",
            "Feature names unseen at fit time:\n",
            "- OverallCond\n",
            "Feature names seen at fit time, yet now missing:\n",
            "- KitchenAbvGr\n",
            "\n",
            "  warnings.warn(message, FutureWarning)\n"
          ]
        },
        {
          "name": "stdout",
          "output_type": "stream",
          "text": [
            "1\n",
            "2\n"
          ]
        },
        {
          "name": "stderr",
          "output_type": "stream",
          "text": [
            "c:\\ProgramData\\Anaconda3\\lib\\site-packages\\sklearn\\base.py:493: FutureWarning: The feature names should match those that were passed during fit. Starting version 1.2, an error will be raised.\n",
            "Feature names unseen at fit time:\n",
            "- OverallCond\n",
            "Feature names seen at fit time, yet now missing:\n",
            "- KitchenAbvGr\n",
            "\n",
            "  warnings.warn(message, FutureWarning)\n"
          ]
        },
        {
          "name": "stdout",
          "output_type": "stream",
          "text": [
            "4\n"
          ]
        },
        {
          "name": "stderr",
          "output_type": "stream",
          "text": [
            "c:\\ProgramData\\Anaconda3\\lib\\site-packages\\sklearn\\base.py:493: FutureWarning: The feature names should match those that were passed during fit. Starting version 1.2, an error will be raised.\n",
            "Feature names unseen at fit time:\n",
            "- OverallCond\n",
            "Feature names seen at fit time, yet now missing:\n",
            "- KitchenAbvGr\n",
            "\n",
            "  warnings.warn(message, FutureWarning)\n"
          ]
        },
        {
          "name": "stdout",
          "output_type": "stream",
          "text": [
            "6\n"
          ]
        },
        {
          "name": "stderr",
          "output_type": "stream",
          "text": [
            "c:\\ProgramData\\Anaconda3\\lib\\site-packages\\sklearn\\base.py:493: FutureWarning: The feature names should match those that were passed during fit. Starting version 1.2, an error will be raised.\n",
            "Feature names unseen at fit time:\n",
            "- OverallCond\n",
            "Feature names seen at fit time, yet now missing:\n",
            "- KitchenAbvGr\n",
            "\n",
            "  warnings.warn(message, FutureWarning)\n"
          ]
        },
        {
          "name": "stdout",
          "output_type": "stream",
          "text": [
            "8\n"
          ]
        },
        {
          "name": "stderr",
          "output_type": "stream",
          "text": [
            "c:\\ProgramData\\Anaconda3\\lib\\site-packages\\sklearn\\base.py:493: FutureWarning: The feature names should match those that were passed during fit. Starting version 1.2, an error will be raised.\n",
            "Feature names unseen at fit time:\n",
            "- OverallCond\n",
            "Feature names seen at fit time, yet now missing:\n",
            "- KitchenAbvGr\n",
            "\n",
            "  warnings.warn(message, FutureWarning)\n"
          ]
        },
        {
          "name": "stdout",
          "output_type": "stream",
          "text": [
            "10\n"
          ]
        },
        {
          "name": "stderr",
          "output_type": "stream",
          "text": [
            "c:\\ProgramData\\Anaconda3\\lib\\site-packages\\sklearn\\base.py:493: FutureWarning: The feature names should match those that were passed during fit. Starting version 1.2, an error will be raised.\n",
            "Feature names unseen at fit time:\n",
            "- OverallCond\n",
            "Feature names seen at fit time, yet now missing:\n",
            "- KitchenAbvGr\n",
            "\n",
            "  warnings.warn(message, FutureWarning)\n"
          ]
        },
        {
          "name": "stdout",
          "output_type": "stream",
          "text": [
            "20\n"
          ]
        },
        {
          "name": "stderr",
          "output_type": "stream",
          "text": [
            "c:\\ProgramData\\Anaconda3\\lib\\site-packages\\sklearn\\base.py:493: FutureWarning: The feature names should match those that were passed during fit. Starting version 1.2, an error will be raised.\n",
            "Feature names unseen at fit time:\n",
            "- OverallCond\n",
            "Feature names seen at fit time, yet now missing:\n",
            "- KitchenAbvGr\n",
            "\n",
            "  warnings.warn(message, FutureWarning)\n"
          ]
        },
        {
          "name": "stdout",
          "output_type": "stream",
          "text": [
            "30\n"
          ]
        },
        {
          "name": "stderr",
          "output_type": "stream",
          "text": [
            "c:\\ProgramData\\Anaconda3\\lib\\site-packages\\sklearn\\base.py:493: FutureWarning: The feature names should match those that were passed during fit. Starting version 1.2, an error will be raised.\n",
            "Feature names unseen at fit time:\n",
            "- OverallCond\n",
            "Feature names seen at fit time, yet now missing:\n",
            "- KitchenAbvGr\n",
            "\n",
            "  warnings.warn(message, FutureWarning)\n"
          ]
        },
        {
          "name": "stdout",
          "output_type": "stream",
          "text": [
            "40\n"
          ]
        },
        {
          "name": "stderr",
          "output_type": "stream",
          "text": [
            "c:\\ProgramData\\Anaconda3\\lib\\site-packages\\sklearn\\base.py:493: FutureWarning: The feature names should match those that were passed during fit. Starting version 1.2, an error will be raised.\n",
            "Feature names unseen at fit time:\n",
            "- OverallCond\n",
            "Feature names seen at fit time, yet now missing:\n",
            "- KitchenAbvGr\n",
            "\n",
            "  warnings.warn(message, FutureWarning)\n"
          ]
        },
        {
          "name": "stdout",
          "output_type": "stream",
          "text": [
            "50\n"
          ]
        },
        {
          "name": "stderr",
          "output_type": "stream",
          "text": [
            "c:\\ProgramData\\Anaconda3\\lib\\site-packages\\sklearn\\base.py:493: FutureWarning: The feature names should match those that were passed during fit. Starting version 1.2, an error will be raised.\n",
            "Feature names unseen at fit time:\n",
            "- OverallCond\n",
            "Feature names seen at fit time, yet now missing:\n",
            "- KitchenAbvGr\n",
            "\n",
            "  warnings.warn(message, FutureWarning)\n"
          ]
        },
        {
          "name": "stdout",
          "output_type": "stream",
          "text": [
            "60\n"
          ]
        },
        {
          "name": "stderr",
          "output_type": "stream",
          "text": [
            "c:\\ProgramData\\Anaconda3\\lib\\site-packages\\sklearn\\base.py:493: FutureWarning: The feature names should match those that were passed during fit. Starting version 1.2, an error will be raised.\n",
            "Feature names unseen at fit time:\n",
            "- OverallCond\n",
            "Feature names seen at fit time, yet now missing:\n",
            "- KitchenAbvGr\n",
            "\n",
            "  warnings.warn(message, FutureWarning)\n"
          ]
        },
        {
          "name": "stdout",
          "output_type": "stream",
          "text": [
            "70\n"
          ]
        },
        {
          "name": "stderr",
          "output_type": "stream",
          "text": [
            "c:\\ProgramData\\Anaconda3\\lib\\site-packages\\sklearn\\base.py:493: FutureWarning: The feature names should match those that were passed during fit. Starting version 1.2, an error will be raised.\n",
            "Feature names unseen at fit time:\n",
            "- OverallCond\n",
            "Feature names seen at fit time, yet now missing:\n",
            "- KitchenAbvGr\n",
            "\n",
            "  warnings.warn(message, FutureWarning)\n"
          ]
        },
        {
          "name": "stdout",
          "output_type": "stream",
          "text": [
            "80\n"
          ]
        },
        {
          "name": "stderr",
          "output_type": "stream",
          "text": [
            "c:\\ProgramData\\Anaconda3\\lib\\site-packages\\sklearn\\base.py:493: FutureWarning: The feature names should match those that were passed during fit. Starting version 1.2, an error will be raised.\n",
            "Feature names unseen at fit time:\n",
            "- OverallCond\n",
            "Feature names seen at fit time, yet now missing:\n",
            "- KitchenAbvGr\n",
            "\n",
            "  warnings.warn(message, FutureWarning)\n"
          ]
        },
        {
          "name": "stdout",
          "output_type": "stream",
          "text": [
            "90\n"
          ]
        },
        {
          "name": "stderr",
          "output_type": "stream",
          "text": [
            "c:\\ProgramData\\Anaconda3\\lib\\site-packages\\sklearn\\base.py:493: FutureWarning: The feature names should match those that were passed during fit. Starting version 1.2, an error will be raised.\n",
            "Feature names unseen at fit time:\n",
            "- OverallCond\n",
            "Feature names seen at fit time, yet now missing:\n",
            "- KitchenAbvGr\n",
            "\n",
            "  warnings.warn(message, FutureWarning)\n"
          ]
        },
        {
          "name": "stdout",
          "output_type": "stream",
          "text": [
            "100\n"
          ]
        },
        {
          "name": "stderr",
          "output_type": "stream",
          "text": [
            "c:\\ProgramData\\Anaconda3\\lib\\site-packages\\sklearn\\base.py:493: FutureWarning: The feature names should match those that were passed during fit. Starting version 1.2, an error will be raised.\n",
            "Feature names unseen at fit time:\n",
            "- OverallCond\n",
            "Feature names seen at fit time, yet now missing:\n",
            "- KitchenAbvGr\n",
            "\n",
            "  warnings.warn(message, FutureWarning)\n"
          ]
        }
      ],
      "source": [
        "no_tree=[1,2,4,6,8,10,20,30,40,50,60,70,80,90,100]\n",
        "values=np.array([])\n",
        "for i in no_tree:\n",
        "    sk_RF = RandomForestRegressor(n_estimators=i,max_depth=2)\n",
        "    RF=RandomForest(number_of_trees=i, min_VarianceReduction=1e-7,sample_size_ratio=0.4, max_depth=2)\n",
        "    print(i)\n",
        "    sk_RF.fit(price_train.iloc[:,:-1], price_train.iloc[:,-1])#fit with train data\n",
        "    sk_prd=sk_RF.predict(price_test.iloc[:,:-1])\n",
        "    cal1=CalcAccuracy((price_test.iloc[:,-1]),sk_prd)\n",
        "\n",
        "\n",
        "    RF.build_model(price_train)\n",
        "    rf_prd=RF.predict(price_test.iloc[:,:-1])\n",
        "    cal2=CalcAccuracy((price_test.iloc[:,-1]),rf_prd)\n",
        "    \n",
        "    values=np.append(values,np.array([i,cal1,cal2]))\n",
        "\n",
        "\n"
      ]
    },
    {
      "cell_type": "code",
      "execution_count": 32,
      "metadata": {},
      "outputs": [],
      "source": [
        "values=np.reshape(values, (15, 3))\n",
        "df= pd.DataFrame(values, columns=['No of trees','Sklearn','Random forest model'])\n"
      ]
    },
    {
      "cell_type": "code",
      "execution_count": 33,
      "metadata": {},
      "outputs": [
        {
          "data": {
            "text/html": [
              "<div>\n",
              "<style scoped>\n",
              "    .dataframe tbody tr th:only-of-type {\n",
              "        vertical-align: middle;\n",
              "    }\n",
              "\n",
              "    .dataframe tbody tr th {\n",
              "        vertical-align: top;\n",
              "    }\n",
              "\n",
              "    .dataframe thead th {\n",
              "        text-align: right;\n",
              "    }\n",
              "</style>\n",
              "<table border=\"1\" class=\"dataframe\">\n",
              "  <thead>\n",
              "    <tr style=\"text-align: right;\">\n",
              "      <th></th>\n",
              "      <th>No of trees</th>\n",
              "      <th>Sklearn</th>\n",
              "      <th>Random forest model</th>\n",
              "    </tr>\n",
              "  </thead>\n",
              "  <tbody>\n",
              "    <tr>\n",
              "      <th>0</th>\n",
              "      <td>1.0</td>\n",
              "      <td>0.923638</td>\n",
              "      <td>0.819382</td>\n",
              "    </tr>\n",
              "    <tr>\n",
              "      <th>1</th>\n",
              "      <td>2.0</td>\n",
              "      <td>0.934670</td>\n",
              "      <td>0.826787</td>\n",
              "    </tr>\n",
              "    <tr>\n",
              "      <th>2</th>\n",
              "      <td>4.0</td>\n",
              "      <td>0.940952</td>\n",
              "      <td>0.828439</td>\n",
              "    </tr>\n",
              "    <tr>\n",
              "      <th>3</th>\n",
              "      <td>6.0</td>\n",
              "      <td>0.937920</td>\n",
              "      <td>0.816712</td>\n",
              "    </tr>\n",
              "    <tr>\n",
              "      <th>4</th>\n",
              "      <td>8.0</td>\n",
              "      <td>0.933771</td>\n",
              "      <td>0.814743</td>\n",
              "    </tr>\n",
              "    <tr>\n",
              "      <th>5</th>\n",
              "      <td>10.0</td>\n",
              "      <td>0.936366</td>\n",
              "      <td>0.829402</td>\n",
              "    </tr>\n",
              "    <tr>\n",
              "      <th>6</th>\n",
              "      <td>20.0</td>\n",
              "      <td>0.936035</td>\n",
              "      <td>0.823291</td>\n",
              "    </tr>\n",
              "    <tr>\n",
              "      <th>7</th>\n",
              "      <td>30.0</td>\n",
              "      <td>0.938173</td>\n",
              "      <td>0.825723</td>\n",
              "    </tr>\n",
              "    <tr>\n",
              "      <th>8</th>\n",
              "      <td>40.0</td>\n",
              "      <td>0.938031</td>\n",
              "      <td>0.824050</td>\n",
              "    </tr>\n",
              "    <tr>\n",
              "      <th>9</th>\n",
              "      <td>50.0</td>\n",
              "      <td>0.938073</td>\n",
              "      <td>0.824956</td>\n",
              "    </tr>\n",
              "    <tr>\n",
              "      <th>10</th>\n",
              "      <td>60.0</td>\n",
              "      <td>0.940386</td>\n",
              "      <td>0.827229</td>\n",
              "    </tr>\n",
              "    <tr>\n",
              "      <th>11</th>\n",
              "      <td>70.0</td>\n",
              "      <td>0.936173</td>\n",
              "      <td>0.823255</td>\n",
              "    </tr>\n",
              "    <tr>\n",
              "      <th>12</th>\n",
              "      <td>80.0</td>\n",
              "      <td>0.936758</td>\n",
              "      <td>0.824401</td>\n",
              "    </tr>\n",
              "    <tr>\n",
              "      <th>13</th>\n",
              "      <td>90.0</td>\n",
              "      <td>0.937582</td>\n",
              "      <td>0.824918</td>\n",
              "    </tr>\n",
              "    <tr>\n",
              "      <th>14</th>\n",
              "      <td>100.0</td>\n",
              "      <td>0.939009</td>\n",
              "      <td>0.822058</td>\n",
              "    </tr>\n",
              "  </tbody>\n",
              "</table>\n",
              "</div>"
            ],
            "text/plain": [
              "    No of trees   Sklearn  Random forest model\n",
              "0           1.0  0.923638             0.819382\n",
              "1           2.0  0.934670             0.826787\n",
              "2           4.0  0.940952             0.828439\n",
              "3           6.0  0.937920             0.816712\n",
              "4           8.0  0.933771             0.814743\n",
              "5          10.0  0.936366             0.829402\n",
              "6          20.0  0.936035             0.823291\n",
              "7          30.0  0.938173             0.825723\n",
              "8          40.0  0.938031             0.824050\n",
              "9          50.0  0.938073             0.824956\n",
              "10         60.0  0.940386             0.827229\n",
              "11         70.0  0.936173             0.823255\n",
              "12         80.0  0.936758             0.824401\n",
              "13         90.0  0.937582             0.824918\n",
              "14        100.0  0.939009             0.822058"
            ]
          },
          "execution_count": 33,
          "metadata": {},
          "output_type": "execute_result"
        }
      ],
      "source": [
        "df"
      ]
    },
    {
      "attachments": {},
      "cell_type": "markdown",
      "metadata": {},
      "source": [
        "It can be seen that accuracy increase between 2 to 4 trees for sklearn and the model and begins to drop"
      ]
    }
  ],
  "metadata": {
    "colab": {
      "provenance": []
    },
    "kernelspec": {
      "display_name": "base",
      "language": "python",
      "name": "python3"
    },
    "language_info": {
      "codemirror_mode": {
        "name": "ipython",
        "version": 3
      },
      "file_extension": ".py",
      "mimetype": "text/x-python",
      "name": "python",
      "nbconvert_exporter": "python",
      "pygments_lexer": "ipython3",
      "version": "3.9.13"
    },
    "vscode": {
      "interpreter": {
        "hash": "ad2bdc8ecc057115af97d19610ffacc2b4e99fae6737bb82f5d7fb13d2f2c186"
      }
    }
  },
  "nbformat": 4,
  "nbformat_minor": 0
}
